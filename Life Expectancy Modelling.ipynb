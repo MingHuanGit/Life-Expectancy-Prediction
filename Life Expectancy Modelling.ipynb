{
 "cells": [
  {
   "cell_type": "code",
   "execution_count": 2,
   "metadata": {
    "collapsed": true,
    "ExecuteTime": {
     "end_time": "2023-07-10T08:47:34.012878100Z",
     "start_time": "2023-07-10T08:47:32.342946600Z"
    }
   },
   "outputs": [],
   "source": [
    "# Import necessary packages\n",
    "import pandas as pd\n",
    "import statsmodels.api as sm\n",
    "import statsmodels.tools\n",
    "from statsmodels.stats.outliers_influence import variance_inflation_factor\n",
    "import pickle"
   ]
  },
  {
   "cell_type": "code",
   "execution_count": 3,
   "outputs": [
    {
     "data": {
      "text/plain": "      const  Infant_deaths  Under_five_deaths  Adult_mortality  \\\n2026    1.0      -0.298246          -0.244969        -0.369456   \n651     1.0      -0.403509          -0.327209        -0.348360   \n2225    1.0      -0.110276          -0.092738        -0.147051   \n2357    1.0      -0.200501          -0.174978        -0.581719   \n670     1.0       0.588972           0.894138         2.319636   \n\n      Alcohol_consumption  Hepatitis_B   Measles       BMI   Polio  \\\n2026             0.137101     0.555556  0.551724  0.252033  0.3750   \n651              0.750979     0.500000  0.517241  0.552846  0.1875   \n2225             0.369334    -0.611111  0.000000  0.552846 -0.8750   \n2357             0.273083     0.555556  0.517241  0.512195  0.3750   \n670              0.128148    -0.333333 -0.655172  0.276423 -0.6875   \n\n      Diphtheria  ...  Economy_status_Developing  Region_Africa  Region_Asia  \\\n2026      0.3750  ...                          1              0            1   \n651       0.3125  ...                          0              0            0   \n2225     -0.9375  ...                          1              0            0   \n2357      0.3750  ...                          1              0            0   \n670      -0.8750  ...                          1              1            0   \n\n      Region_Central America and Caribbean  Region_European Union  \\\n2026                                     0                      0   \n651                                      0                      1   \n2225                                     0                      0   \n2357                                     0                      0   \n670                                      0                      0   \n\n      Region_Middle East  Region_North America  Region_Oceania  \\\n2026                   0                     0               0   \n651                    0                     0               0   \n2225                   0                     0               0   \n2357                   0                     0               0   \n670                    0                     0               0   \n\n      Region_Rest of Europe  Region_South America  \n2026                      0                     0  \n651                       0                     0  \n2225                      0                     1  \n2357                      1                     0  \n670                       0                     0  \n\n[5 rows x 27 columns]",
      "text/html": "<div>\n<style scoped>\n    .dataframe tbody tr th:only-of-type {\n        vertical-align: middle;\n    }\n\n    .dataframe tbody tr th {\n        vertical-align: top;\n    }\n\n    .dataframe thead th {\n        text-align: right;\n    }\n</style>\n<table border=\"1\" class=\"dataframe\">\n  <thead>\n    <tr style=\"text-align: right;\">\n      <th></th>\n      <th>const</th>\n      <th>Infant_deaths</th>\n      <th>Under_five_deaths</th>\n      <th>Adult_mortality</th>\n      <th>Alcohol_consumption</th>\n      <th>Hepatitis_B</th>\n      <th>Measles</th>\n      <th>BMI</th>\n      <th>Polio</th>\n      <th>Diphtheria</th>\n      <th>...</th>\n      <th>Economy_status_Developing</th>\n      <th>Region_Africa</th>\n      <th>Region_Asia</th>\n      <th>Region_Central America and Caribbean</th>\n      <th>Region_European Union</th>\n      <th>Region_Middle East</th>\n      <th>Region_North America</th>\n      <th>Region_Oceania</th>\n      <th>Region_Rest of Europe</th>\n      <th>Region_South America</th>\n    </tr>\n  </thead>\n  <tbody>\n    <tr>\n      <th>2026</th>\n      <td>1.0</td>\n      <td>-0.298246</td>\n      <td>-0.244969</td>\n      <td>-0.369456</td>\n      <td>0.137101</td>\n      <td>0.555556</td>\n      <td>0.551724</td>\n      <td>0.252033</td>\n      <td>0.3750</td>\n      <td>0.3750</td>\n      <td>...</td>\n      <td>1</td>\n      <td>0</td>\n      <td>1</td>\n      <td>0</td>\n      <td>0</td>\n      <td>0</td>\n      <td>0</td>\n      <td>0</td>\n      <td>0</td>\n      <td>0</td>\n    </tr>\n    <tr>\n      <th>651</th>\n      <td>1.0</td>\n      <td>-0.403509</td>\n      <td>-0.327209</td>\n      <td>-0.348360</td>\n      <td>0.750979</td>\n      <td>0.500000</td>\n      <td>0.517241</td>\n      <td>0.552846</td>\n      <td>0.1875</td>\n      <td>0.3125</td>\n      <td>...</td>\n      <td>0</td>\n      <td>0</td>\n      <td>0</td>\n      <td>0</td>\n      <td>1</td>\n      <td>0</td>\n      <td>0</td>\n      <td>0</td>\n      <td>0</td>\n      <td>0</td>\n    </tr>\n    <tr>\n      <th>2225</th>\n      <td>1.0</td>\n      <td>-0.110276</td>\n      <td>-0.092738</td>\n      <td>-0.147051</td>\n      <td>0.369334</td>\n      <td>-0.611111</td>\n      <td>0.000000</td>\n      <td>0.552846</td>\n      <td>-0.8750</td>\n      <td>-0.9375</td>\n      <td>...</td>\n      <td>1</td>\n      <td>0</td>\n      <td>0</td>\n      <td>0</td>\n      <td>0</td>\n      <td>0</td>\n      <td>0</td>\n      <td>0</td>\n      <td>0</td>\n      <td>1</td>\n    </tr>\n    <tr>\n      <th>2357</th>\n      <td>1.0</td>\n      <td>-0.200501</td>\n      <td>-0.174978</td>\n      <td>-0.581719</td>\n      <td>0.273083</td>\n      <td>0.555556</td>\n      <td>0.517241</td>\n      <td>0.512195</td>\n      <td>0.3750</td>\n      <td>0.3750</td>\n      <td>...</td>\n      <td>1</td>\n      <td>0</td>\n      <td>0</td>\n      <td>0</td>\n      <td>0</td>\n      <td>0</td>\n      <td>0</td>\n      <td>0</td>\n      <td>1</td>\n      <td>0</td>\n    </tr>\n    <tr>\n      <th>670</th>\n      <td>1.0</td>\n      <td>0.588972</td>\n      <td>0.894138</td>\n      <td>2.319636</td>\n      <td>0.128148</td>\n      <td>-0.333333</td>\n      <td>-0.655172</td>\n      <td>0.276423</td>\n      <td>-0.6875</td>\n      <td>-0.8750</td>\n      <td>...</td>\n      <td>1</td>\n      <td>1</td>\n      <td>0</td>\n      <td>0</td>\n      <td>0</td>\n      <td>0</td>\n      <td>0</td>\n      <td>0</td>\n      <td>0</td>\n      <td>0</td>\n    </tr>\n  </tbody>\n</table>\n<p>5 rows × 27 columns</p>\n</div>"
     },
     "execution_count": 3,
     "metadata": {},
     "output_type": "execute_result"
    }
   ],
   "source": [
    "# Read in train/test split data, set index equal to 1st column\n",
    "X_train_fe = pd.read_csv('X_train_fe.csv', index_col=[0])\n",
    "X_test_fe = pd.read_csv('X_test_fe.csv', index_col=[0])\n",
    "y_train = pd.read_csv('y_train.csv', index_col=[0])\n",
    "y_test = pd.read_csv('y_test.csv', index_col=[0])\n",
    "\n",
    "# Squeeze y_train and y_test into panda.Series\n",
    "y_train = y_train.squeeze()\n",
    "y_test = y_test.squeeze()\n",
    "\n",
    "# Check first 5 rows\n",
    "X_train_fe.head()"
   ],
   "metadata": {
    "collapsed": false,
    "ExecuteTime": {
     "end_time": "2023-07-10T08:47:34.352950900Z",
     "start_time": "2023-07-10T08:47:34.001890300Z"
    }
   }
  },
  {
   "cell_type": "code",
   "execution_count": 4,
   "outputs": [
    {
     "data": {
      "text/plain": "      const  Infant_deaths  Under_five_deaths  Adult_mortality  \\\n1590    1.0      -0.131868          -0.111969         0.102023   \n1752    1.0      -0.417582          -0.347490        -0.726046   \n772     1.0       0.793956           0.936293         0.415246   \n1735    1.0       1.810440           2.206564         0.940366   \n387     1.0      -0.406593          -0.339768        -0.643476   \n\n      Alcohol_consumption  Hepatitis_B  Measles       BMI   Polio  Diphtheria  \\\n1590             0.603565       0.4375      0.0  0.603306  0.1250      0.1875   \n1752             0.580824      -0.0625      0.1  0.595041  0.1875      0.1875   \n772              0.364474      -1.1875     -0.4  0.314050  0.0000      0.0000   \n1735             0.088506      -1.0000      0.0  0.181818 -0.8750     -0.8750   \n387              0.559312       0.1875     -0.2  0.578512  0.1875      0.1875   \n\n      ...  Economy_status_Developing  Region_Africa  Region_Asia  \\\n1590  ...                          1              0            0   \n1752  ...                          0              0            0   \n772   ...                          1              0            0   \n1735  ...                          1              1            0   \n387   ...                          0              0            0   \n\n      Region_Central America and Caribbean  Region_European Union  \\\n1590                                     1                      0   \n1752                                     0                      0   \n772                                      1                      0   \n1735                                     0                      0   \n387                                      0                      1   \n\n      Region_Middle East  Region_North America  Region_Oceania  \\\n1590                   0                     0               0   \n1752                   0                     0               0   \n772                    0                     0               0   \n1735                   0                     0               0   \n387                    0                     0               0   \n\n      Region_Rest of Europe  Region_South America  \n1590                      0                     0  \n1752                      1                     0  \n772                       0                     0  \n1735                      0                     0  \n387                       0                     0  \n\n[5 rows x 27 columns]",
      "text/html": "<div>\n<style scoped>\n    .dataframe tbody tr th:only-of-type {\n        vertical-align: middle;\n    }\n\n    .dataframe tbody tr th {\n        vertical-align: top;\n    }\n\n    .dataframe thead th {\n        text-align: right;\n    }\n</style>\n<table border=\"1\" class=\"dataframe\">\n  <thead>\n    <tr style=\"text-align: right;\">\n      <th></th>\n      <th>const</th>\n      <th>Infant_deaths</th>\n      <th>Under_five_deaths</th>\n      <th>Adult_mortality</th>\n      <th>Alcohol_consumption</th>\n      <th>Hepatitis_B</th>\n      <th>Measles</th>\n      <th>BMI</th>\n      <th>Polio</th>\n      <th>Diphtheria</th>\n      <th>...</th>\n      <th>Economy_status_Developing</th>\n      <th>Region_Africa</th>\n      <th>Region_Asia</th>\n      <th>Region_Central America and Caribbean</th>\n      <th>Region_European Union</th>\n      <th>Region_Middle East</th>\n      <th>Region_North America</th>\n      <th>Region_Oceania</th>\n      <th>Region_Rest of Europe</th>\n      <th>Region_South America</th>\n    </tr>\n  </thead>\n  <tbody>\n    <tr>\n      <th>1590</th>\n      <td>1.0</td>\n      <td>-0.131868</td>\n      <td>-0.111969</td>\n      <td>0.102023</td>\n      <td>0.603565</td>\n      <td>0.4375</td>\n      <td>0.0</td>\n      <td>0.603306</td>\n      <td>0.1250</td>\n      <td>0.1875</td>\n      <td>...</td>\n      <td>1</td>\n      <td>0</td>\n      <td>0</td>\n      <td>1</td>\n      <td>0</td>\n      <td>0</td>\n      <td>0</td>\n      <td>0</td>\n      <td>0</td>\n      <td>0</td>\n    </tr>\n    <tr>\n      <th>1752</th>\n      <td>1.0</td>\n      <td>-0.417582</td>\n      <td>-0.347490</td>\n      <td>-0.726046</td>\n      <td>0.580824</td>\n      <td>-0.0625</td>\n      <td>0.1</td>\n      <td>0.595041</td>\n      <td>0.1875</td>\n      <td>0.1875</td>\n      <td>...</td>\n      <td>0</td>\n      <td>0</td>\n      <td>0</td>\n      <td>0</td>\n      <td>0</td>\n      <td>0</td>\n      <td>0</td>\n      <td>0</td>\n      <td>1</td>\n      <td>0</td>\n    </tr>\n    <tr>\n      <th>772</th>\n      <td>1.0</td>\n      <td>0.793956</td>\n      <td>0.936293</td>\n      <td>0.415246</td>\n      <td>0.364474</td>\n      <td>-1.1875</td>\n      <td>-0.4</td>\n      <td>0.314050</td>\n      <td>0.0000</td>\n      <td>0.0000</td>\n      <td>...</td>\n      <td>1</td>\n      <td>0</td>\n      <td>0</td>\n      <td>1</td>\n      <td>0</td>\n      <td>0</td>\n      <td>0</td>\n      <td>0</td>\n      <td>0</td>\n      <td>0</td>\n    </tr>\n    <tr>\n      <th>1735</th>\n      <td>1.0</td>\n      <td>1.810440</td>\n      <td>2.206564</td>\n      <td>0.940366</td>\n      <td>0.088506</td>\n      <td>-1.0000</td>\n      <td>0.0</td>\n      <td>0.181818</td>\n      <td>-0.8750</td>\n      <td>-0.8750</td>\n      <td>...</td>\n      <td>1</td>\n      <td>1</td>\n      <td>0</td>\n      <td>0</td>\n      <td>0</td>\n      <td>0</td>\n      <td>0</td>\n      <td>0</td>\n      <td>0</td>\n      <td>0</td>\n    </tr>\n    <tr>\n      <th>387</th>\n      <td>1.0</td>\n      <td>-0.406593</td>\n      <td>-0.339768</td>\n      <td>-0.643476</td>\n      <td>0.559312</td>\n      <td>0.1875</td>\n      <td>-0.2</td>\n      <td>0.578512</td>\n      <td>0.1875</td>\n      <td>0.1875</td>\n      <td>...</td>\n      <td>0</td>\n      <td>0</td>\n      <td>0</td>\n      <td>0</td>\n      <td>1</td>\n      <td>0</td>\n      <td>0</td>\n      <td>0</td>\n      <td>0</td>\n      <td>0</td>\n    </tr>\n  </tbody>\n</table>\n<p>5 rows × 27 columns</p>\n</div>"
     },
     "execution_count": 4,
     "metadata": {},
     "output_type": "execute_result"
    }
   ],
   "source": [
    "# Check first 5 rows\n",
    "X_test_fe.head()"
   ],
   "metadata": {
    "collapsed": false,
    "ExecuteTime": {
     "end_time": "2023-07-10T08:47:34.583335200Z",
     "start_time": "2023-07-10T08:47:34.353948800Z"
    }
   }
  },
  {
   "cell_type": "code",
   "execution_count": 5,
   "outputs": [
    {
     "data": {
      "text/plain": "2026    76.1\n651     75.7\n2225    72.8\n2357    76.6\n670     50.6\nName: Life_expectancy, dtype: float64"
     },
     "execution_count": 5,
     "metadata": {},
     "output_type": "execute_result"
    }
   ],
   "source": [
    "# Check first 5 rows\n",
    "y_train.head()"
   ],
   "metadata": {
    "collapsed": false,
    "ExecuteTime": {
     "end_time": "2023-07-10T08:47:34.697045400Z",
     "start_time": "2023-07-10T08:47:34.481608700Z"
    }
   }
  },
  {
   "cell_type": "code",
   "execution_count": 6,
   "outputs": [
    {
     "data": {
      "text/plain": "1590    72.0\n1752    81.3\n772     62.7\n1735    55.4\n387     79.0\nName: Life_expectancy, dtype: float64"
     },
     "execution_count": 6,
     "metadata": {},
     "output_type": "execute_result"
    }
   ],
   "source": [
    "# Check first 5 rows\n",
    "y_test.head()"
   ],
   "metadata": {
    "collapsed": false,
    "ExecuteTime": {
     "end_time": "2023-07-10T08:47:34.951447Z",
     "start_time": "2023-07-10T08:47:34.530478700Z"
    }
   }
  },
  {
   "cell_type": "code",
   "execution_count": 7,
   "outputs": [
    {
     "name": "stdout",
     "output_type": "stream",
     "text": [
      "2291\n",
      "(2291, 27)\n"
     ]
    }
   ],
   "source": [
    "# Check to see that the indexes match\n",
    "print(sum(X_train_fe.index == y_train.index))\n",
    "print(X_train_fe.shape)"
   ],
   "metadata": {
    "collapsed": false,
    "ExecuteTime": {
     "end_time": "2023-07-10T08:47:34.952445100Z",
     "start_time": "2023-07-10T08:47:34.616261700Z"
    }
   }
  },
  {
   "cell_type": "markdown",
   "source": [
    "# First Model"
   ],
   "metadata": {
    "collapsed": false
   }
  },
  {
   "cell_type": "code",
   "execution_count": 8,
   "outputs": [
    {
     "data": {
      "text/plain": "<class 'statsmodels.iolib.summary.Summary'>\n\"\"\"\n                            OLS Regression Results                            \n==============================================================================\nDep. Variable:        Life_expectancy   R-squared:                       0.984\nModel:                            OLS   Adj. R-squared:                  0.984\nMethod:                 Least Squares   F-statistic:                     5836.\nDate:                Mon, 10 Jul 2023   Prob (F-statistic):               0.00\nTime:                        09:47:35   Log-Likelihood:                -3659.9\nNo. Observations:                2291   AIC:                             7370.\nDf Residuals:                    2266   BIC:                             7513.\nDf Model:                          24                                         \nCovariance Type:            nonrobust                                         \n========================================================================================================\n                                           coef    std err          t      P>|t|      [0.025      0.975]\n--------------------------------------------------------------------------------------------------------\nconst                                   44.8465      0.109    411.939      0.000      44.633      45.060\nInfant_deaths                           -2.2748      0.255     -8.909      0.000      -2.776      -1.774\nUnder_five_deaths                       -2.7271      0.230    -11.860      0.000      -3.178      -2.276\nAdult_mortality                         -6.6979      0.089    -74.993      0.000      -6.873      -6.523\nAlcohol_consumption                     -0.1736      0.206     -0.843      0.400      -0.578       0.230\nHepatitis_B                             -0.1019      0.046     -2.213      0.027      -0.192      -0.012\nMeasles                                  0.0804      0.051      1.583      0.114      -0.019       0.180\nBMI                                     -1.3819      0.279     -4.957      0.000      -1.929      -0.835\nPolio                                    0.1138      0.094      1.210      0.226      -0.071       0.298\nDiphtheria                              -0.1150      0.095     -1.208      0.227      -0.302       0.072\nIncidents_HIV                            0.0372      0.007      5.045      0.000       0.023       0.052\nGDP_per_capita                           0.2143      0.028      7.702      0.000       0.160       0.269\nPopulation_mln                          -0.0041      0.004     -0.913      0.361      -0.013       0.005\nThinness_ten_nineteen_years             -0.1909      0.098     -1.956      0.051      -0.382       0.001\nThinness_five_nine_years                 0.1435      0.097      1.475      0.140      -0.047       0.334\nSchooling                                1.4983      0.238      6.296      0.000       1.032       1.965\nEconomy_status_Developed                23.6769      0.115    206.021      0.000      23.452      23.902\nEconomy_status_Developing               21.1696      0.082    259.177      0.000      21.009      21.330\nRegion_Africa                            4.6130      0.090     51.344      0.000       4.437       4.789\nRegion_Asia                              4.9015      0.096     50.814      0.000       4.712       5.091\nRegion_Central America and Caribbean     6.5346      0.089     73.768      0.000       6.361       6.708\nRegion_European Union                    3.9160      0.126     31.189      0.000       3.670       4.162\nRegion_Middle East                       4.7458      0.108     43.914      0.000       4.534       4.958\nRegion_North America                     5.2825      0.187     28.227      0.000       4.916       5.650\nRegion_Oceania                           3.7374      0.106     35.226      0.000       3.529       3.945\nRegion_Rest of Europe                    4.8158      0.094     51.388      0.000       4.632       5.000\nRegion_South America                     6.2998      0.101     62.239      0.000       6.101       6.498\n==============================================================================\nOmnibus:                       14.424   Durbin-Watson:                   2.041\nProb(Omnibus):                  0.001   Jarque-Bera (JB):               16.107\nSkew:                           0.138   Prob(JB):                     0.000318\nKurtosis:                       3.304   Cond. No.                     9.13e+15\n==============================================================================\n\nNotes:\n[1] Standard Errors assume that the covariance matrix of the errors is correctly specified.\n[2] The smallest eigenvalue is 1.12e-27. This might indicate that there are\nstrong multicollinearity problems or that the design matrix is singular.\n\"\"\"",
      "text/html": "<table class=\"simpletable\">\n<caption>OLS Regression Results</caption>\n<tr>\n  <th>Dep. Variable:</th>     <td>Life_expectancy</td> <th>  R-squared:         </th> <td>   0.984</td>\n</tr>\n<tr>\n  <th>Model:</th>                   <td>OLS</td>       <th>  Adj. R-squared:    </th> <td>   0.984</td>\n</tr>\n<tr>\n  <th>Method:</th>             <td>Least Squares</td>  <th>  F-statistic:       </th> <td>   5836.</td>\n</tr>\n<tr>\n  <th>Date:</th>             <td>Mon, 10 Jul 2023</td> <th>  Prob (F-statistic):</th>  <td>  0.00</td> \n</tr>\n<tr>\n  <th>Time:</th>                 <td>09:47:35</td>     <th>  Log-Likelihood:    </th> <td> -3659.9</td>\n</tr>\n<tr>\n  <th>No. Observations:</th>      <td>  2291</td>      <th>  AIC:               </th> <td>   7370.</td>\n</tr>\n<tr>\n  <th>Df Residuals:</th>          <td>  2266</td>      <th>  BIC:               </th> <td>   7513.</td>\n</tr>\n<tr>\n  <th>Df Model:</th>              <td>    24</td>      <th>                     </th>     <td> </td>   \n</tr>\n<tr>\n  <th>Covariance Type:</th>      <td>nonrobust</td>    <th>                     </th>     <td> </td>   \n</tr>\n</table>\n<table class=\"simpletable\">\n<tr>\n                    <td></td>                      <th>coef</th>     <th>std err</th>      <th>t</th>      <th>P>|t|</th>  <th>[0.025</th>    <th>0.975]</th>  \n</tr>\n<tr>\n  <th>const</th>                                <td>   44.8465</td> <td>    0.109</td> <td>  411.939</td> <td> 0.000</td> <td>   44.633</td> <td>   45.060</td>\n</tr>\n<tr>\n  <th>Infant_deaths</th>                        <td>   -2.2748</td> <td>    0.255</td> <td>   -8.909</td> <td> 0.000</td> <td>   -2.776</td> <td>   -1.774</td>\n</tr>\n<tr>\n  <th>Under_five_deaths</th>                    <td>   -2.7271</td> <td>    0.230</td> <td>  -11.860</td> <td> 0.000</td> <td>   -3.178</td> <td>   -2.276</td>\n</tr>\n<tr>\n  <th>Adult_mortality</th>                      <td>   -6.6979</td> <td>    0.089</td> <td>  -74.993</td> <td> 0.000</td> <td>   -6.873</td> <td>   -6.523</td>\n</tr>\n<tr>\n  <th>Alcohol_consumption</th>                  <td>   -0.1736</td> <td>    0.206</td> <td>   -0.843</td> <td> 0.400</td> <td>   -0.578</td> <td>    0.230</td>\n</tr>\n<tr>\n  <th>Hepatitis_B</th>                          <td>   -0.1019</td> <td>    0.046</td> <td>   -2.213</td> <td> 0.027</td> <td>   -0.192</td> <td>   -0.012</td>\n</tr>\n<tr>\n  <th>Measles</th>                              <td>    0.0804</td> <td>    0.051</td> <td>    1.583</td> <td> 0.114</td> <td>   -0.019</td> <td>    0.180</td>\n</tr>\n<tr>\n  <th>BMI</th>                                  <td>   -1.3819</td> <td>    0.279</td> <td>   -4.957</td> <td> 0.000</td> <td>   -1.929</td> <td>   -0.835</td>\n</tr>\n<tr>\n  <th>Polio</th>                                <td>    0.1138</td> <td>    0.094</td> <td>    1.210</td> <td> 0.226</td> <td>   -0.071</td> <td>    0.298</td>\n</tr>\n<tr>\n  <th>Diphtheria</th>                           <td>   -0.1150</td> <td>    0.095</td> <td>   -1.208</td> <td> 0.227</td> <td>   -0.302</td> <td>    0.072</td>\n</tr>\n<tr>\n  <th>Incidents_HIV</th>                        <td>    0.0372</td> <td>    0.007</td> <td>    5.045</td> <td> 0.000</td> <td>    0.023</td> <td>    0.052</td>\n</tr>\n<tr>\n  <th>GDP_per_capita</th>                       <td>    0.2143</td> <td>    0.028</td> <td>    7.702</td> <td> 0.000</td> <td>    0.160</td> <td>    0.269</td>\n</tr>\n<tr>\n  <th>Population_mln</th>                       <td>   -0.0041</td> <td>    0.004</td> <td>   -0.913</td> <td> 0.361</td> <td>   -0.013</td> <td>    0.005</td>\n</tr>\n<tr>\n  <th>Thinness_ten_nineteen_years</th>          <td>   -0.1909</td> <td>    0.098</td> <td>   -1.956</td> <td> 0.051</td> <td>   -0.382</td> <td>    0.001</td>\n</tr>\n<tr>\n  <th>Thinness_five_nine_years</th>             <td>    0.1435</td> <td>    0.097</td> <td>    1.475</td> <td> 0.140</td> <td>   -0.047</td> <td>    0.334</td>\n</tr>\n<tr>\n  <th>Schooling</th>                            <td>    1.4983</td> <td>    0.238</td> <td>    6.296</td> <td> 0.000</td> <td>    1.032</td> <td>    1.965</td>\n</tr>\n<tr>\n  <th>Economy_status_Developed</th>             <td>   23.6769</td> <td>    0.115</td> <td>  206.021</td> <td> 0.000</td> <td>   23.452</td> <td>   23.902</td>\n</tr>\n<tr>\n  <th>Economy_status_Developing</th>            <td>   21.1696</td> <td>    0.082</td> <td>  259.177</td> <td> 0.000</td> <td>   21.009</td> <td>   21.330</td>\n</tr>\n<tr>\n  <th>Region_Africa</th>                        <td>    4.6130</td> <td>    0.090</td> <td>   51.344</td> <td> 0.000</td> <td>    4.437</td> <td>    4.789</td>\n</tr>\n<tr>\n  <th>Region_Asia</th>                          <td>    4.9015</td> <td>    0.096</td> <td>   50.814</td> <td> 0.000</td> <td>    4.712</td> <td>    5.091</td>\n</tr>\n<tr>\n  <th>Region_Central America and Caribbean</th> <td>    6.5346</td> <td>    0.089</td> <td>   73.768</td> <td> 0.000</td> <td>    6.361</td> <td>    6.708</td>\n</tr>\n<tr>\n  <th>Region_European Union</th>                <td>    3.9160</td> <td>    0.126</td> <td>   31.189</td> <td> 0.000</td> <td>    3.670</td> <td>    4.162</td>\n</tr>\n<tr>\n  <th>Region_Middle East</th>                   <td>    4.7458</td> <td>    0.108</td> <td>   43.914</td> <td> 0.000</td> <td>    4.534</td> <td>    4.958</td>\n</tr>\n<tr>\n  <th>Region_North America</th>                 <td>    5.2825</td> <td>    0.187</td> <td>   28.227</td> <td> 0.000</td> <td>    4.916</td> <td>    5.650</td>\n</tr>\n<tr>\n  <th>Region_Oceania</th>                       <td>    3.7374</td> <td>    0.106</td> <td>   35.226</td> <td> 0.000</td> <td>    3.529</td> <td>    3.945</td>\n</tr>\n<tr>\n  <th>Region_Rest of Europe</th>                <td>    4.8158</td> <td>    0.094</td> <td>   51.388</td> <td> 0.000</td> <td>    4.632</td> <td>    5.000</td>\n</tr>\n<tr>\n  <th>Region_South America</th>                 <td>    6.2998</td> <td>    0.101</td> <td>   62.239</td> <td> 0.000</td> <td>    6.101</td> <td>    6.498</td>\n</tr>\n</table>\n<table class=\"simpletable\">\n<tr>\n  <th>Omnibus:</th>       <td>14.424</td> <th>  Durbin-Watson:     </th> <td>   2.041</td>\n</tr>\n<tr>\n  <th>Prob(Omnibus):</th> <td> 0.001</td> <th>  Jarque-Bera (JB):  </th> <td>  16.107</td>\n</tr>\n<tr>\n  <th>Skew:</th>          <td> 0.138</td> <th>  Prob(JB):          </th> <td>0.000318</td>\n</tr>\n<tr>\n  <th>Kurtosis:</th>      <td> 3.304</td> <th>  Cond. No.          </th> <td>9.13e+15</td>\n</tr>\n</table><br/><br/>Notes:<br/>[1] Standard Errors assume that the covariance matrix of the errors is correctly specified.<br/>[2] The smallest eigenvalue is 1.12e-27. This might indicate that there are<br/>strong multicollinearity problems or that the design matrix is singular."
     },
     "execution_count": 8,
     "metadata": {},
     "output_type": "execute_result"
    }
   ],
   "source": [
    "# Create preliminary model\n",
    "lin_reg = sm.OLS(y_train, X_train_fe) # Use y_train and X_train data\n",
    "results = lin_reg.fit() # Fit linear regression\n",
    "results.summary() # Get summary"
   ],
   "metadata": {
    "collapsed": false,
    "ExecuteTime": {
     "end_time": "2023-07-10T08:47:35.390372900Z",
     "start_time": "2023-07-10T08:47:34.681074400Z"
    }
   }
  },
  {
   "cell_type": "code",
   "execution_count": 9,
   "outputs": [
    {
     "name": "stdout",
     "output_type": "stream",
     "text": [
      "RMSE: 1.1955165633833158\n"
     ]
    }
   ],
   "source": [
    "y_pred = results.predict(X_train_fe) # Get y_pred using predict()\n",
    "rmse = statsmodels.tools.eval_measures.rmse(y_train, y_pred) # Calculate RMSE\n",
    "print(f'RMSE: {rmse}')"
   ],
   "metadata": {
    "collapsed": false,
    "ExecuteTime": {
     "end_time": "2023-07-10T08:47:35.474668900Z",
     "start_time": "2023-07-10T08:47:35.247214Z"
    }
   }
  },
  {
   "cell_type": "markdown",
   "source": [
    "- Very high condition number, strong multicollinearity problems\n",
    "- Many features have higher than 0.05 p-values\n",
    "- RMSE is good - 1.20\n",
    "\n",
    "# Second Model\n",
    "## Dropping columns by their VIF"
   ],
   "metadata": {
    "collapsed": false
   }
  },
  {
   "cell_type": "code",
   "execution_count": 10,
   "outputs": [
    {
     "name": "stderr",
     "output_type": "stream",
     "text": [
      "C:\\Users\\Ming\\anaconda3\\lib\\site-packages\\statsmodels\\regression\\linear_model.py:1752: RuntimeWarning: divide by zero encountered in double_scalars\n",
      "  return 1 - self.ssr/self.centered_tss\n",
      "C:\\Users\\Ming\\anaconda3\\lib\\site-packages\\statsmodels\\stats\\outliers_influence.py:195: RuntimeWarning: divide by zero encountered in double_scalars\n",
      "  vif = 1. / (1. - r_squared_i)\n"
     ]
    },
    {
     "data": {
      "text/plain": "const                                    0.000000\nInfant_deaths                           49.942936\nUnder_five_deaths                       51.674364\nAdult_mortality                          8.298276\nAlcohol_consumption                      3.353434\nHepatitis_B                              2.743322\nMeasles                                  1.655160\nBMI                                      3.948867\nPolio                                   12.553064\nDiphtheria                              13.738433\nIncidents_HIV                            3.066573\nGDP_per_capita                           2.750356\nPopulation_mln                           1.198752\nThinness_ten_nineteen_years              8.669616\nThinness_five_nine_years                 8.948924\nSchooling                                5.497600\nEconomy_status_Developed                      inf\nEconomy_status_Developing                     inf\nRegion_Africa                                 inf\nRegion_Asia                                   inf\nRegion_Central America and Caribbean          inf\nRegion_European Union                         inf\nRegion_Middle East                            inf\nRegion_North America                          inf\nRegion_Oceania                                inf\nRegion_Rest of Europe                         inf\nRegion_South America                          inf\ndtype: float64"
     },
     "execution_count": 10,
     "metadata": {},
     "output_type": "execute_result"
    }
   ],
   "source": [
    "# Get all the column names\n",
    "cols = X_train_fe.columns\n",
    "\n",
    "# Create an indexed list (a series) where we list the VIF of each of the columns\n",
    "pd.Series([variance_inflation_factor(X_train_fe[cols].values, i) for i in range(X_train_fe[cols].shape[1])], index = X_train_fe[cols].columns)"
   ],
   "metadata": {
    "collapsed": false,
    "ExecuteTime": {
     "end_time": "2023-07-10T08:47:37.190257100Z",
     "start_time": "2023-07-10T08:47:35.338510500Z"
    }
   }
  },
  {
   "cell_type": "markdown",
   "source": [
    "- VIF is quite high for a few columns, shows multicollinearity\n",
    "- E.g. Infant_deaths and Under_five_deaths both have VIFs around 50, makes sense as they are extremely correlated - Pearson coefficient 0.95"
   ],
   "metadata": {
    "collapsed": false
   }
  },
  {
   "cell_type": "code",
   "execution_count": 11,
   "outputs": [],
   "source": [
    "# Define function that drops columns if VIF scores are higher than 5 in a stepwise manner\n",
    "def calculate_vif(X, thresh = 5.0):\n",
    "    variables = list(range(X.shape[1])) # List of number of rows\n",
    "    dropped = True\n",
    "    while dropped:\n",
    "        dropped = False\n",
    "        # List comprehension to gather all the VIF values of the different variables\n",
    "        vif = [variance_inflation_factor(X.iloc[:, variables].values, ix)\n",
    "               for ix in range(X.iloc[:, variables].shape[1])]\n",
    "\n",
    "        maxloc = vif.index(max(vif)) # Get the index of the highest VIF value\n",
    "        if max(vif) > thresh:\n",
    "            print('dropping \\'' + X.iloc[:, variables].columns[maxloc] +\n",
    "                  '\\' at index: ' + str(maxloc))\n",
    "            del variables[maxloc] # Delete the highest VIF value on condition that it's higher than the threshold\n",
    "            dropped = True # If we deleted anything, we set the 'dropped' value to True to stay in the while loop\n",
    "\n",
    "            print('Remaining variables:')\n",
    "            print(X.columns[variables]) # Finally, print the variables that are still in our set\n",
    "    return X.iloc[:, variables] # Return our X cut down to the remaining variables"
   ],
   "metadata": {
    "collapsed": false,
    "ExecuteTime": {
     "end_time": "2023-07-10T08:47:37.231146Z",
     "start_time": "2023-07-10T08:47:37.192252Z"
    }
   }
  },
  {
   "cell_type": "code",
   "execution_count": 12,
   "outputs": [
    {
     "name": "stderr",
     "output_type": "stream",
     "text": [
      "C:\\Users\\Ming\\anaconda3\\lib\\site-packages\\statsmodels\\stats\\outliers_influence.py:195: RuntimeWarning: divide by zero encountered in double_scalars\n",
      "  vif = 1. / (1. - r_squared_i)\n"
     ]
    },
    {
     "name": "stdout",
     "output_type": "stream",
     "text": [
      "dropping 'Economy_status_Developed' at index: 15\n",
      "Remaining variables:\n",
      "Index(['Infant_deaths', 'Under_five_deaths', 'Adult_mortality',\n",
      "       'Alcohol_consumption', 'Hepatitis_B', 'Measles', 'BMI', 'Polio',\n",
      "       'Diphtheria', 'Incidents_HIV', 'GDP_per_capita', 'Population_mln',\n",
      "       'Thinness_ten_nineteen_years', 'Thinness_five_nine_years', 'Schooling',\n",
      "       'Economy_status_Developing', 'Region_Africa', 'Region_Asia',\n",
      "       'Region_Central America and Caribbean', 'Region_European Union',\n",
      "       'Region_Middle East', 'Region_North America', 'Region_Oceania',\n",
      "       'Region_Rest of Europe', 'Region_South America'],\n",
      "      dtype='object')\n",
      "dropping 'Under_five_deaths' at index: 1\n",
      "Remaining variables:\n",
      "Index(['Infant_deaths', 'Adult_mortality', 'Alcohol_consumption',\n",
      "       'Hepatitis_B', 'Measles', 'BMI', 'Polio', 'Diphtheria', 'Incidents_HIV',\n",
      "       'GDP_per_capita', 'Population_mln', 'Thinness_ten_nineteen_years',\n",
      "       'Thinness_five_nine_years', 'Schooling', 'Economy_status_Developing',\n",
      "       'Region_Africa', 'Region_Asia', 'Region_Central America and Caribbean',\n",
      "       'Region_European Union', 'Region_Middle East', 'Region_North America',\n",
      "       'Region_Oceania', 'Region_Rest of Europe', 'Region_South America'],\n",
      "      dtype='object')\n",
      "dropping 'Region_Africa' at index: 15\n",
      "Remaining variables:\n",
      "Index(['Infant_deaths', 'Adult_mortality', 'Alcohol_consumption',\n",
      "       'Hepatitis_B', 'Measles', 'BMI', 'Polio', 'Diphtheria', 'Incidents_HIV',\n",
      "       'GDP_per_capita', 'Population_mln', 'Thinness_ten_nineteen_years',\n",
      "       'Thinness_five_nine_years', 'Schooling', 'Economy_status_Developing',\n",
      "       'Region_Asia', 'Region_Central America and Caribbean',\n",
      "       'Region_European Union', 'Region_Middle East', 'Region_North America',\n",
      "       'Region_Oceania', 'Region_Rest of Europe', 'Region_South America'],\n",
      "      dtype='object')\n",
      "dropping 'BMI' at index: 5\n",
      "Remaining variables:\n",
      "Index(['Infant_deaths', 'Adult_mortality', 'Alcohol_consumption',\n",
      "       'Hepatitis_B', 'Measles', 'Polio', 'Diphtheria', 'Incidents_HIV',\n",
      "       'GDP_per_capita', 'Population_mln', 'Thinness_ten_nineteen_years',\n",
      "       'Thinness_five_nine_years', 'Schooling', 'Economy_status_Developing',\n",
      "       'Region_Asia', 'Region_Central America and Caribbean',\n",
      "       'Region_European Union', 'Region_Middle East', 'Region_North America',\n",
      "       'Region_Oceania', 'Region_Rest of Europe', 'Region_South America'],\n",
      "      dtype='object')\n",
      "dropping 'Schooling' at index: 12\n",
      "Remaining variables:\n",
      "Index(['Infant_deaths', 'Adult_mortality', 'Alcohol_consumption',\n",
      "       'Hepatitis_B', 'Measles', 'Polio', 'Diphtheria', 'Incidents_HIV',\n",
      "       'GDP_per_capita', 'Population_mln', 'Thinness_ten_nineteen_years',\n",
      "       'Thinness_five_nine_years', 'Economy_status_Developing', 'Region_Asia',\n",
      "       'Region_Central America and Caribbean', 'Region_European Union',\n",
      "       'Region_Middle East', 'Region_North America', 'Region_Oceania',\n",
      "       'Region_Rest of Europe', 'Region_South America'],\n",
      "      dtype='object')\n",
      "dropping 'Diphtheria' at index: 6\n",
      "Remaining variables:\n",
      "Index(['Infant_deaths', 'Adult_mortality', 'Alcohol_consumption',\n",
      "       'Hepatitis_B', 'Measles', 'Polio', 'Incidents_HIV', 'GDP_per_capita',\n",
      "       'Population_mln', 'Thinness_ten_nineteen_years',\n",
      "       'Thinness_five_nine_years', 'Economy_status_Developing', 'Region_Asia',\n",
      "       'Region_Central America and Caribbean', 'Region_European Union',\n",
      "       'Region_Middle East', 'Region_North America', 'Region_Oceania',\n",
      "       'Region_Rest of Europe', 'Region_South America'],\n",
      "      dtype='object')\n",
      "dropping 'Thinness_five_nine_years' at index: 10\n",
      "Remaining variables:\n",
      "Index(['Infant_deaths', 'Adult_mortality', 'Alcohol_consumption',\n",
      "       'Hepatitis_B', 'Measles', 'Polio', 'Incidents_HIV', 'GDP_per_capita',\n",
      "       'Population_mln', 'Thinness_ten_nineteen_years',\n",
      "       'Economy_status_Developing', 'Region_Asia',\n",
      "       'Region_Central America and Caribbean', 'Region_European Union',\n",
      "       'Region_Middle East', 'Region_North America', 'Region_Oceania',\n",
      "       'Region_Rest of Europe', 'Region_South America'],\n",
      "      dtype='object')\n",
      "dropping 'Adult_mortality' at index: 1\n",
      "Remaining variables:\n",
      "Index(['Infant_deaths', 'Alcohol_consumption', 'Hepatitis_B', 'Measles',\n",
      "       'Polio', 'Incidents_HIV', 'GDP_per_capita', 'Population_mln',\n",
      "       'Thinness_ten_nineteen_years', 'Economy_status_Developing',\n",
      "       'Region_Asia', 'Region_Central America and Caribbean',\n",
      "       'Region_European Union', 'Region_Middle East', 'Region_North America',\n",
      "       'Region_Oceania', 'Region_Rest of Europe', 'Region_South America'],\n",
      "      dtype='object')\n",
      "dropping 'Economy_status_Developing' at index: 9\n",
      "Remaining variables:\n",
      "Index(['Infant_deaths', 'Alcohol_consumption', 'Hepatitis_B', 'Measles',\n",
      "       'Polio', 'Incidents_HIV', 'GDP_per_capita', 'Population_mln',\n",
      "       'Thinness_ten_nineteen_years', 'Region_Asia',\n",
      "       'Region_Central America and Caribbean', 'Region_European Union',\n",
      "       'Region_Middle East', 'Region_North America', 'Region_Oceania',\n",
      "       'Region_Rest of Europe', 'Region_South America'],\n",
      "      dtype='object')\n",
      "dropping 'Alcohol_consumption' at index: 1\n",
      "Remaining variables:\n",
      "Index(['Infant_deaths', 'Hepatitis_B', 'Measles', 'Polio', 'Incidents_HIV',\n",
      "       'GDP_per_capita', 'Population_mln', 'Thinness_ten_nineteen_years',\n",
      "       'Region_Asia', 'Region_Central America and Caribbean',\n",
      "       'Region_European Union', 'Region_Middle East', 'Region_North America',\n",
      "       'Region_Oceania', 'Region_Rest of Europe', 'Region_South America'],\n",
      "      dtype='object')\n"
     ]
    }
   ],
   "source": [
    "# Run VIF function on X_train\n",
    "X_train_fe_2 = calculate_vif(X_train_fe[['Infant_deaths', 'Under_five_deaths', 'Adult_mortality',\n",
    "                                         'Alcohol_consumption', 'Hepatitis_B', 'Measles', 'BMI', 'Polio',\n",
    "                                         'Diphtheria', 'Incidents_HIV', 'GDP_per_capita', 'Population_mln',\n",
    "                                         'Thinness_ten_nineteen_years', 'Thinness_five_nine_years', 'Schooling',\n",
    "                                         'Economy_status_Developed', 'Economy_status_Developing',\n",
    "                                         'Region_Africa', 'Region_Asia', 'Region_Central America and Caribbean',\n",
    "                                         'Region_European Union', 'Region_Middle East', 'Region_North America',\n",
    "                                         'Region_Oceania', 'Region_Rest of Europe', 'Region_South America']])"
   ],
   "metadata": {
    "collapsed": false,
    "ExecuteTime": {
     "end_time": "2023-07-10T08:47:39.565762400Z",
     "start_time": "2023-07-10T08:47:37.226160400Z"
    }
   }
  },
  {
   "cell_type": "code",
   "execution_count": 13,
   "outputs": [],
   "source": [
    "# Add back the constant\n",
    "X_train_fe_2 = sm.add_constant(X_train_fe_2)"
   ],
   "metadata": {
    "collapsed": false,
    "ExecuteTime": {
     "end_time": "2023-07-10T08:47:39.672002100Z",
     "start_time": "2023-07-10T08:47:39.569752100Z"
    }
   }
  },
  {
   "cell_type": "markdown",
   "source": [
    "## Dropping columns by their p-value"
   ],
   "metadata": {
    "collapsed": false
   }
  },
  {
   "cell_type": "code",
   "execution_count": 14,
   "outputs": [],
   "source": [
    "# Define function that drops columns by their p-value in a stepwise manner\n",
    "def stepwise_selection(X, y, threshold_in = 0.01, threshold_out = 0.05, verbose = True):\n",
    "    # The function is checking for p-values (whether features are statistically significant) - lower is better\n",
    "\n",
    "    included = [] # This is going to be the list of features we keep\n",
    "\n",
    "    while True:\n",
    "        changed = False\n",
    "        ''' Forward step '''\n",
    "        excluded = list(set(X.columns) - set(included)) # Get list of excluded columns\n",
    "        new_pval = pd.Series(index = excluded, dtype = 'float64') # Create empty series\n",
    "        for new_column in excluded: # Iterate through each excluded column\n",
    "            model = sm.OLS(y, sm.add_constant(pd.DataFrame(X[included + [new_column]]))).fit() # Fit model using included columns and new_column\n",
    "            new_pval[new_column] = model.pvalues[new_column] # Put p-value of each column into series\n",
    "        best_pval = new_pval.min() # Get the best p-value\n",
    "        # Add the feature with the lowest (best) p-value under the threshold to our 'included' list\n",
    "        if best_pval < threshold_in:\n",
    "            best_feature = new_pval.idxmin() # 'Lowest' p-value\n",
    "            included.append(best_feature) # Append feature to 'included' list\n",
    "            changed = True\n",
    "            if verbose:\n",
    "                print('Add  {:30} with p-value {:.6}'.format(best_feature, best_pval)) # Specifying the verbose text\n",
    "\n",
    "\n",
    "        ''' Backward step: removing features if new features added to the list make them statistically insignificant '''\n",
    "        model = sm.OLS(y, sm.add_constant(pd.DataFrame(X[included]))).fit() # Fit model using all included columns\n",
    "        # Use all coefs except intercept\n",
    "        pvalues = model.pvalues.iloc[1:] # Get all p-values\n",
    "        worst_pval = pvalues.max() # Null if pvalues is empty\n",
    "        # If the p-value exceeds the upper threshold, the feature will be dropped from the 'included' list\n",
    "        if worst_pval > threshold_out:\n",
    "            changed = True\n",
    "            worst_feature = pvalues.idxmax()\n",
    "            included.remove(worst_feature)\n",
    "            if verbose:\n",
    "                print('Drop {:30} with p-value {:.6}'.format(worst_feature, worst_pval)) # Specifying the verbose text\n",
    "        if not changed:\n",
    "            break\n",
    "    return included"
   ],
   "metadata": {
    "collapsed": false,
    "ExecuteTime": {
     "end_time": "2023-07-10T08:47:39.673000600Z",
     "start_time": "2023-07-10T08:47:39.645548100Z"
    }
   }
  },
  {
   "cell_type": "code",
   "execution_count": 15,
   "outputs": [
    {
     "name": "stdout",
     "output_type": "stream",
     "text": [
      "Add  const                          with p-value 0.0\n",
      "Add  Infant_deaths                  with p-value 0.0\n",
      "Add  Incidents_HIV                  with p-value 1.777e-254\n",
      "Add  GDP_per_capita                 with p-value 4.77357e-110\n",
      "Add  Region_Rest of Europe          with p-value 1.19914e-11\n",
      "Add  Region_Asia                    with p-value 7.90394e-08\n",
      "Add  Region_Central America and Caribbean with p-value 2.31337e-10\n",
      "Add  Region_South America           with p-value 6.89539e-13\n",
      "Add  Region_European Union          with p-value 0.00011279\n",
      "Add  Region_Middle East             with p-value 1.71506e-06\n",
      "Drop Region_Rest of Europe          with p-value 0.748857\n",
      "Add  Region_North America           with p-value 2.15496e-09\n",
      "Add  Measles                        with p-value 0.00475976\n",
      "Add  Hepatitis_B                    with p-value 0.00647118\n",
      "resulting features:\n",
      "['const', 'Infant_deaths', 'Incidents_HIV', 'GDP_per_capita', 'Region_Asia', 'Region_Central America and Caribbean', 'Region_South America', 'Region_European Union', 'Region_Middle East', 'Region_North America', 'Measles', 'Hepatitis_B']\n"
     ]
    }
   ],
   "source": [
    "# Run stepwise_selection() on remaining features\n",
    "final_columns = stepwise_selection(X_train_fe_2[list(X_train_fe_2.columns)], y_train)\n",
    "print('resulting features:')\n",
    "print(final_columns)"
   ],
   "metadata": {
    "collapsed": false,
    "ExecuteTime": {
     "end_time": "2023-07-10T08:47:42.205911100Z",
     "start_time": "2023-07-10T08:47:39.680991200Z"
    }
   }
  },
  {
   "cell_type": "code",
   "execution_count": 16,
   "outputs": [],
   "source": [
    "# Set dataset to remaining columns after VIF and p-value stepwise dropping\n",
    "X_train_fe_final = X_train_fe_2[final_columns]"
   ],
   "metadata": {
    "collapsed": false,
    "ExecuteTime": {
     "end_time": "2023-07-10T08:47:42.247319700Z",
     "start_time": "2023-07-10T08:47:42.208902100Z"
    }
   }
  },
  {
   "cell_type": "code",
   "execution_count": 17,
   "outputs": [
    {
     "data": {
      "text/plain": "<class 'statsmodels.iolib.summary.Summary'>\n\"\"\"\n                            OLS Regression Results                            \n==============================================================================\nDep. Variable:        Life_expectancy   R-squared:                       0.934\nModel:                            OLS   Adj. R-squared:                  0.934\nMethod:                 Least Squares   F-statistic:                     2951.\nDate:                Mon, 10 Jul 2023   Prob (F-statistic):               0.00\nTime:                        09:47:42   Log-Likelihood:                -5282.0\nNo. Observations:                2291   AIC:                         1.059e+04\nDf Residuals:                    2279   BIC:                         1.066e+04\nDf Model:                          11                                         \nCovariance Type:            nonrobust                                         \n========================================================================================================\n                                           coef    std err          t      P>|t|      [0.025      0.975]\n--------------------------------------------------------------------------------------------------------\nconst                                   70.4731      0.105    669.633      0.000      70.267      70.679\nInfant_deaths                           -9.6790      0.119    -81.567      0.000      -9.912      -9.446\nIncidents_HIV                           -0.3851      0.009    -40.750      0.000      -0.404      -0.367\nGDP_per_capita                           1.0202      0.043     23.527      0.000       0.935       1.105\nRegion_Asia                              1.8507      0.160     11.554      0.000       1.537       2.165\nRegion_Central America and Caribbean     2.1356      0.189     11.275      0.000       1.764       2.507\nRegion_South America                     2.3190      0.218     10.651      0.000       1.892       2.746\nRegion_European Union                    1.3678      0.185      7.405      0.000       1.006       1.730\nRegion_Middle East                       1.2920      0.212      6.085      0.000       0.876       1.708\nRegion_North America                     2.2060      0.407      5.414      0.000       1.407       3.005\nMeasles                                  0.3293      0.098      3.375      0.001       0.138       0.521\nHepatitis_B                             -0.1919      0.070     -2.725      0.006      -0.330      -0.054\n==============================================================================\nOmnibus:                       28.235   Durbin-Watson:                   2.053\nProb(Omnibus):                  0.000   Jarque-Bera (JB):               47.723\nSkew:                          -0.040   Prob(JB):                     4.34e-11\nKurtosis:                       3.702   Cond. No.                         51.6\n==============================================================================\n\nNotes:\n[1] Standard Errors assume that the covariance matrix of the errors is correctly specified.\n\"\"\"",
      "text/html": "<table class=\"simpletable\">\n<caption>OLS Regression Results</caption>\n<tr>\n  <th>Dep. Variable:</th>     <td>Life_expectancy</td> <th>  R-squared:         </th> <td>   0.934</td> \n</tr>\n<tr>\n  <th>Model:</th>                   <td>OLS</td>       <th>  Adj. R-squared:    </th> <td>   0.934</td> \n</tr>\n<tr>\n  <th>Method:</th>             <td>Least Squares</td>  <th>  F-statistic:       </th> <td>   2951.</td> \n</tr>\n<tr>\n  <th>Date:</th>             <td>Mon, 10 Jul 2023</td> <th>  Prob (F-statistic):</th>  <td>  0.00</td>  \n</tr>\n<tr>\n  <th>Time:</th>                 <td>09:47:42</td>     <th>  Log-Likelihood:    </th> <td> -5282.0</td> \n</tr>\n<tr>\n  <th>No. Observations:</th>      <td>  2291</td>      <th>  AIC:               </th> <td>1.059e+04</td>\n</tr>\n<tr>\n  <th>Df Residuals:</th>          <td>  2279</td>      <th>  BIC:               </th> <td>1.066e+04</td>\n</tr>\n<tr>\n  <th>Df Model:</th>              <td>    11</td>      <th>                     </th>     <td> </td>    \n</tr>\n<tr>\n  <th>Covariance Type:</th>      <td>nonrobust</td>    <th>                     </th>     <td> </td>    \n</tr>\n</table>\n<table class=\"simpletable\">\n<tr>\n                    <td></td>                      <th>coef</th>     <th>std err</th>      <th>t</th>      <th>P>|t|</th>  <th>[0.025</th>    <th>0.975]</th>  \n</tr>\n<tr>\n  <th>const</th>                                <td>   70.4731</td> <td>    0.105</td> <td>  669.633</td> <td> 0.000</td> <td>   70.267</td> <td>   70.679</td>\n</tr>\n<tr>\n  <th>Infant_deaths</th>                        <td>   -9.6790</td> <td>    0.119</td> <td>  -81.567</td> <td> 0.000</td> <td>   -9.912</td> <td>   -9.446</td>\n</tr>\n<tr>\n  <th>Incidents_HIV</th>                        <td>   -0.3851</td> <td>    0.009</td> <td>  -40.750</td> <td> 0.000</td> <td>   -0.404</td> <td>   -0.367</td>\n</tr>\n<tr>\n  <th>GDP_per_capita</th>                       <td>    1.0202</td> <td>    0.043</td> <td>   23.527</td> <td> 0.000</td> <td>    0.935</td> <td>    1.105</td>\n</tr>\n<tr>\n  <th>Region_Asia</th>                          <td>    1.8507</td> <td>    0.160</td> <td>   11.554</td> <td> 0.000</td> <td>    1.537</td> <td>    2.165</td>\n</tr>\n<tr>\n  <th>Region_Central America and Caribbean</th> <td>    2.1356</td> <td>    0.189</td> <td>   11.275</td> <td> 0.000</td> <td>    1.764</td> <td>    2.507</td>\n</tr>\n<tr>\n  <th>Region_South America</th>                 <td>    2.3190</td> <td>    0.218</td> <td>   10.651</td> <td> 0.000</td> <td>    1.892</td> <td>    2.746</td>\n</tr>\n<tr>\n  <th>Region_European Union</th>                <td>    1.3678</td> <td>    0.185</td> <td>    7.405</td> <td> 0.000</td> <td>    1.006</td> <td>    1.730</td>\n</tr>\n<tr>\n  <th>Region_Middle East</th>                   <td>    1.2920</td> <td>    0.212</td> <td>    6.085</td> <td> 0.000</td> <td>    0.876</td> <td>    1.708</td>\n</tr>\n<tr>\n  <th>Region_North America</th>                 <td>    2.2060</td> <td>    0.407</td> <td>    5.414</td> <td> 0.000</td> <td>    1.407</td> <td>    3.005</td>\n</tr>\n<tr>\n  <th>Measles</th>                              <td>    0.3293</td> <td>    0.098</td> <td>    3.375</td> <td> 0.001</td> <td>    0.138</td> <td>    0.521</td>\n</tr>\n<tr>\n  <th>Hepatitis_B</th>                          <td>   -0.1919</td> <td>    0.070</td> <td>   -2.725</td> <td> 0.006</td> <td>   -0.330</td> <td>   -0.054</td>\n</tr>\n</table>\n<table class=\"simpletable\">\n<tr>\n  <th>Omnibus:</th>       <td>28.235</td> <th>  Durbin-Watson:     </th> <td>   2.053</td>\n</tr>\n<tr>\n  <th>Prob(Omnibus):</th> <td> 0.000</td> <th>  Jarque-Bera (JB):  </th> <td>  47.723</td>\n</tr>\n<tr>\n  <th>Skew:</th>          <td>-0.040</td> <th>  Prob(JB):          </th> <td>4.34e-11</td>\n</tr>\n<tr>\n  <th>Kurtosis:</th>      <td> 3.702</td> <th>  Cond. No.          </th> <td>    51.6</td>\n</tr>\n</table><br/><br/>Notes:<br/>[1] Standard Errors assume that the covariance matrix of the errors is correctly specified."
     },
     "execution_count": 17,
     "metadata": {},
     "output_type": "execute_result"
    }
   ],
   "source": [
    "# Create model\n",
    "lin_reg = sm.OLS(y_train, X_train_fe_final) # Use y_train and X_train data\n",
    "results = lin_reg.fit() # Fit linear regression\n",
    "results.summary() # Get summary"
   ],
   "metadata": {
    "collapsed": false,
    "ExecuteTime": {
     "end_time": "2023-07-10T08:47:42.422850400Z",
     "start_time": "2023-07-10T08:47:42.242333100Z"
    }
   }
  },
  {
   "cell_type": "code",
   "execution_count": 18,
   "outputs": [
    {
     "name": "stdout",
     "output_type": "stream",
     "text": [
      "RMSE: 2.426923206132856\n"
     ]
    }
   ],
   "source": [
    "y_pred = results.predict(X_train_fe_final) # Get y_pred using predict()\n",
    "rmse = statsmodels.tools.eval_measures.rmse(y_train, y_pred) # Calculate RMSE\n",
    "print(f'RMSE: {rmse}')"
   ],
   "metadata": {
    "collapsed": false,
    "ExecuteTime": {
     "end_time": "2023-07-10T08:47:42.491665500Z",
     "start_time": "2023-07-10T08:47:42.390935300Z"
    }
   }
  },
  {
   "cell_type": "markdown",
   "source": [
    "- All p-values are < 0.05\n",
    "- Condition number - 51.6 (No multicollinearity)\n",
    "- RMSE - 2.43\n",
    "\n",
    "# Test Model on Test Data"
   ],
   "metadata": {
    "collapsed": false
   }
  },
  {
   "cell_type": "code",
   "execution_count": 19,
   "outputs": [
    {
     "name": "stdout",
     "output_type": "stream",
     "text": [
      "RMSE: 2.724472782775562\n"
     ]
    }
   ],
   "source": [
    "y_test_pred = results.predict(X_test_fe[final_columns]) # Use only the features left after dropping\n",
    "rmse = statsmodels.tools.eval_measures.rmse(y_test, y_test_pred)\n",
    "print(f'RMSE: {rmse}')"
   ],
   "metadata": {
    "collapsed": false,
    "ExecuteTime": {
     "end_time": "2023-07-10T08:47:42.583423Z",
     "start_time": "2023-07-10T08:47:42.433833500Z"
    }
   }
  }
 ],
 "metadata": {
  "kernelspec": {
   "display_name": "Python 3",
   "language": "python",
   "name": "python3"
  },
  "language_info": {
   "codemirror_mode": {
    "name": "ipython",
    "version": 2
   },
   "file_extension": ".py",
   "mimetype": "text/x-python",
   "name": "python",
   "nbconvert_exporter": "python",
   "pygments_lexer": "ipython2",
   "version": "2.7.6"
  }
 },
 "nbformat": 4,
 "nbformat_minor": 0
}
