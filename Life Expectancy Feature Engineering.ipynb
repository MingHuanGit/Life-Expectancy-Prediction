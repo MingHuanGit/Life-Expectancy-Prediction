{
 "cells": [
  {
   "cell_type": "code",
   "execution_count": 2,
   "metadata": {
    "collapsed": true,
    "ExecuteTime": {
     "end_time": "2023-07-10T08:46:59.990483200Z",
     "start_time": "2023-07-10T08:46:59.548663500Z"
    }
   },
   "outputs": [],
   "source": [
    "# Import necessary packages\n",
    "import pandas as pd\n",
    "from sklearn.model_selection import train_test_split\n",
    "from sklearn.preprocessing import RobustScaler, MinMaxScaler\n",
    "import statsmodels.api as sm"
   ]
  },
  {
   "cell_type": "code",
   "execution_count": 3,
   "outputs": [],
   "source": [
    "# Read in clean data\n",
    "df = pd.read_csv('Clean_Life_Expectancy_Data.csv')"
   ],
   "metadata": {
    "collapsed": false,
    "ExecuteTime": {
     "end_time": "2023-07-10T08:47:00.112203800Z",
     "start_time": "2023-07-10T08:46:59.566617300Z"
    }
   }
  },
  {
   "cell_type": "code",
   "execution_count": 4,
   "outputs": [
    {
     "data": {
      "text/plain": "           Region  Infant_deaths  Under_five_deaths  Adult_mortality  \\\n0     Middle East           11.1               13.0         105.8240   \n1  European Union            2.7                3.3          57.9025   \n2            Asia           51.5               67.9         201.0765   \n3   South America           32.8               40.5         222.1965   \n4     Middle East            3.4                4.3          57.9510   \n\n   Alcohol_consumption  Hepatitis_B  Measles   BMI  Polio  Diphtheria  \\\n0                 1.32           97       65  27.8     97          97   \n1                10.35           97       94  26.0     97          97   \n2                 1.57           60       35  21.2     67          64   \n3                 5.68           93       74  25.3     92          93   \n4                 2.89           97       89  27.0     94          94   \n\n   Incidents_HIV  GDP_per_capita  Population_mln  Thinness_ten_nineteen_years  \\\n0           0.08           11006           78.53                          4.9   \n1           0.09           25742           46.44                          0.6   \n2           0.13            1076         1183.21                         27.1   \n3           0.79            4146            0.75                          5.7   \n4           0.08           33995            7.91                          1.2   \n\n   Thinness_five_nine_years  Schooling  Economy_status_Developed  \\\n0                       4.8        7.8                         0   \n1                       0.5        9.7                         1   \n2                      28.0        5.0                         0   \n3                       5.5        7.9                         0   \n4                       1.1       12.8                         1   \n\n   Economy_status_Developing  Life_expectancy  \n0                          1             76.5  \n1                          0             82.8  \n2                          1             65.4  \n3                          1             67.0  \n4                          0             81.7  ",
      "text/html": "<div>\n<style scoped>\n    .dataframe tbody tr th:only-of-type {\n        vertical-align: middle;\n    }\n\n    .dataframe tbody tr th {\n        vertical-align: top;\n    }\n\n    .dataframe thead th {\n        text-align: right;\n    }\n</style>\n<table border=\"1\" class=\"dataframe\">\n  <thead>\n    <tr style=\"text-align: right;\">\n      <th></th>\n      <th>Region</th>\n      <th>Infant_deaths</th>\n      <th>Under_five_deaths</th>\n      <th>Adult_mortality</th>\n      <th>Alcohol_consumption</th>\n      <th>Hepatitis_B</th>\n      <th>Measles</th>\n      <th>BMI</th>\n      <th>Polio</th>\n      <th>Diphtheria</th>\n      <th>Incidents_HIV</th>\n      <th>GDP_per_capita</th>\n      <th>Population_mln</th>\n      <th>Thinness_ten_nineteen_years</th>\n      <th>Thinness_five_nine_years</th>\n      <th>Schooling</th>\n      <th>Economy_status_Developed</th>\n      <th>Economy_status_Developing</th>\n      <th>Life_expectancy</th>\n    </tr>\n  </thead>\n  <tbody>\n    <tr>\n      <th>0</th>\n      <td>Middle East</td>\n      <td>11.1</td>\n      <td>13.0</td>\n      <td>105.8240</td>\n      <td>1.32</td>\n      <td>97</td>\n      <td>65</td>\n      <td>27.8</td>\n      <td>97</td>\n      <td>97</td>\n      <td>0.08</td>\n      <td>11006</td>\n      <td>78.53</td>\n      <td>4.9</td>\n      <td>4.8</td>\n      <td>7.8</td>\n      <td>0</td>\n      <td>1</td>\n      <td>76.5</td>\n    </tr>\n    <tr>\n      <th>1</th>\n      <td>European Union</td>\n      <td>2.7</td>\n      <td>3.3</td>\n      <td>57.9025</td>\n      <td>10.35</td>\n      <td>97</td>\n      <td>94</td>\n      <td>26.0</td>\n      <td>97</td>\n      <td>97</td>\n      <td>0.09</td>\n      <td>25742</td>\n      <td>46.44</td>\n      <td>0.6</td>\n      <td>0.5</td>\n      <td>9.7</td>\n      <td>1</td>\n      <td>0</td>\n      <td>82.8</td>\n    </tr>\n    <tr>\n      <th>2</th>\n      <td>Asia</td>\n      <td>51.5</td>\n      <td>67.9</td>\n      <td>201.0765</td>\n      <td>1.57</td>\n      <td>60</td>\n      <td>35</td>\n      <td>21.2</td>\n      <td>67</td>\n      <td>64</td>\n      <td>0.13</td>\n      <td>1076</td>\n      <td>1183.21</td>\n      <td>27.1</td>\n      <td>28.0</td>\n      <td>5.0</td>\n      <td>0</td>\n      <td>1</td>\n      <td>65.4</td>\n    </tr>\n    <tr>\n      <th>3</th>\n      <td>South America</td>\n      <td>32.8</td>\n      <td>40.5</td>\n      <td>222.1965</td>\n      <td>5.68</td>\n      <td>93</td>\n      <td>74</td>\n      <td>25.3</td>\n      <td>92</td>\n      <td>93</td>\n      <td>0.79</td>\n      <td>4146</td>\n      <td>0.75</td>\n      <td>5.7</td>\n      <td>5.5</td>\n      <td>7.9</td>\n      <td>0</td>\n      <td>1</td>\n      <td>67.0</td>\n    </tr>\n    <tr>\n      <th>4</th>\n      <td>Middle East</td>\n      <td>3.4</td>\n      <td>4.3</td>\n      <td>57.9510</td>\n      <td>2.89</td>\n      <td>97</td>\n      <td>89</td>\n      <td>27.0</td>\n      <td>94</td>\n      <td>94</td>\n      <td>0.08</td>\n      <td>33995</td>\n      <td>7.91</td>\n      <td>1.2</td>\n      <td>1.1</td>\n      <td>12.8</td>\n      <td>1</td>\n      <td>0</td>\n      <td>81.7</td>\n    </tr>\n  </tbody>\n</table>\n</div>"
     },
     "execution_count": 4,
     "metadata": {},
     "output_type": "execute_result"
    }
   ],
   "source": [
    "# Check first 5 rows\n",
    "df.head()"
   ],
   "metadata": {
    "collapsed": false,
    "ExecuteTime": {
     "end_time": "2023-07-10T08:47:00.226897500Z",
     "start_time": "2023-07-10T08:46:59.874793500Z"
    }
   }
  },
  {
   "cell_type": "markdown",
   "source": [
    "# Train/Test Split"
   ],
   "metadata": {
    "collapsed": false
   }
  },
  {
   "cell_type": "code",
   "execution_count": 5,
   "outputs": [],
   "source": [
    "# Define feature columns\n",
    "feature_cols = list(df.columns)\n",
    "feature_cols.remove('Life_expectancy') # Take out 'Life_expectancy' as this is the target\n",
    "\n",
    "# Create X and y\n",
    "X = df[feature_cols]\n",
    "y = df['Life_expectancy']"
   ],
   "metadata": {
    "collapsed": false,
    "ExecuteTime": {
     "end_time": "2023-07-10T08:47:00.227898400Z",
     "start_time": "2023-07-10T08:47:00.059301800Z"
    }
   }
  },
  {
   "cell_type": "code",
   "execution_count": 6,
   "outputs": [],
   "source": [
    "# Split data into train and test data\n",
    "X_train, X_test, y_train, y_test = train_test_split(X, y, test_size = 0.2, random_state = 42)"
   ],
   "metadata": {
    "collapsed": false,
    "ExecuteTime": {
     "end_time": "2023-07-10T08:47:00.437334900Z",
     "start_time": "2023-07-10T08:47:00.159086400Z"
    }
   }
  },
  {
   "cell_type": "markdown",
   "source": [
    "# Feature Engineering"
   ],
   "metadata": {
    "collapsed": false
   }
  },
  {
   "cell_type": "code",
   "execution_count": 8,
   "outputs": [],
   "source": [
    "# Define feature engineering function\n",
    "def feature_eng(df):\n",
    "    df = df.copy() # Copy dataframe\n",
    "\n",
    "    ''' One hot encoding '''\n",
    "    df = pd.get_dummies(df, columns = ['Region'], prefix = 'Region')\n",
    "\n",
    "    ''' MinMax scaling '''\n",
    "    minmax = MinMaxScaler() # Initialise scaler\n",
    "    # Fit and transform scaler\n",
    "    df[['BMI', 'Schooling', 'Alcohol_consumption']] = minmax.fit_transform(df[['BMI', 'Schooling', 'Alcohol_consumption']])\n",
    "\n",
    "    ''' Robust scaling '''\n",
    "    # Define list of columns to be robust scaled\n",
    "    robust_list = ['Infant_deaths',\n",
    "                   'Under_five_deaths',\n",
    "                   'Adult_mortality',\n",
    "                   'Hepatitis_B',\n",
    "                   'Measles',\n",
    "                   'Polio',\n",
    "                   'Diphtheria',\n",
    "                   'Incidents_HIV',\n",
    "                   'GDP_per_capita',\n",
    "                   'Population_mln',\n",
    "                   'Thinness_ten_nineteen_years',\n",
    "                   'Thinness_five_nine_years',]\n",
    "    rob = RobustScaler() # Initialise scaler\n",
    "    # Fit and transform scaler\n",
    "    df[robust_list] = rob.fit_transform(df[robust_list])\n",
    "\n",
    "    ''' Add constant '''\n",
    "    df = sm.add_constant(df)\n",
    "\n",
    "    return df"
   ],
   "metadata": {
    "collapsed": false,
    "ExecuteTime": {
     "end_time": "2023-07-10T08:47:00.886133700Z",
     "start_time": "2023-07-10T08:47:00.534076200Z"
    }
   }
  },
  {
   "cell_type": "code",
   "execution_count": 9,
   "outputs": [
    {
     "data": {
      "text/plain": "      const  Infant_deaths  Under_five_deaths  Adult_mortality  \\\n2026    1.0      -0.298246          -0.244969        -0.369456   \n651     1.0      -0.403509          -0.327209        -0.348360   \n2225    1.0      -0.110276          -0.092738        -0.147051   \n2357    1.0      -0.200501          -0.174978        -0.581719   \n670     1.0       0.588972           0.894138         2.319636   \n\n      Alcohol_consumption  Hepatitis_B   Measles       BMI   Polio  \\\n2026             0.137101     0.555556  0.551724  0.252033  0.3750   \n651              0.750979     0.500000  0.517241  0.552846  0.1875   \n2225             0.369334    -0.611111  0.000000  0.552846 -0.8750   \n2357             0.273083     0.555556  0.517241  0.512195  0.3750   \n670              0.128148    -0.333333 -0.655172  0.276423 -0.6875   \n\n      Diphtheria  ...  Economy_status_Developing  Region_Africa  Region_Asia  \\\n2026      0.3750  ...                          1              0            1   \n651       0.3125  ...                          0              0            0   \n2225     -0.9375  ...                          1              0            0   \n2357      0.3750  ...                          1              0            0   \n670      -0.8750  ...                          1              1            0   \n\n      Region_Central America and Caribbean  Region_European Union  \\\n2026                                     0                      0   \n651                                      0                      1   \n2225                                     0                      0   \n2357                                     0                      0   \n670                                      0                      0   \n\n      Region_Middle East  Region_North America  Region_Oceania  \\\n2026                   0                     0               0   \n651                    0                     0               0   \n2225                   0                     0               0   \n2357                   0                     0               0   \n670                    0                     0               0   \n\n      Region_Rest of Europe  Region_South America  \n2026                      0                     0  \n651                       0                     0  \n2225                      0                     1  \n2357                      1                     0  \n670                       0                     0  \n\n[5 rows x 27 columns]",
      "text/html": "<div>\n<style scoped>\n    .dataframe tbody tr th:only-of-type {\n        vertical-align: middle;\n    }\n\n    .dataframe tbody tr th {\n        vertical-align: top;\n    }\n\n    .dataframe thead th {\n        text-align: right;\n    }\n</style>\n<table border=\"1\" class=\"dataframe\">\n  <thead>\n    <tr style=\"text-align: right;\">\n      <th></th>\n      <th>const</th>\n      <th>Infant_deaths</th>\n      <th>Under_five_deaths</th>\n      <th>Adult_mortality</th>\n      <th>Alcohol_consumption</th>\n      <th>Hepatitis_B</th>\n      <th>Measles</th>\n      <th>BMI</th>\n      <th>Polio</th>\n      <th>Diphtheria</th>\n      <th>...</th>\n      <th>Economy_status_Developing</th>\n      <th>Region_Africa</th>\n      <th>Region_Asia</th>\n      <th>Region_Central America and Caribbean</th>\n      <th>Region_European Union</th>\n      <th>Region_Middle East</th>\n      <th>Region_North America</th>\n      <th>Region_Oceania</th>\n      <th>Region_Rest of Europe</th>\n      <th>Region_South America</th>\n    </tr>\n  </thead>\n  <tbody>\n    <tr>\n      <th>2026</th>\n      <td>1.0</td>\n      <td>-0.298246</td>\n      <td>-0.244969</td>\n      <td>-0.369456</td>\n      <td>0.137101</td>\n      <td>0.555556</td>\n      <td>0.551724</td>\n      <td>0.252033</td>\n      <td>0.3750</td>\n      <td>0.3750</td>\n      <td>...</td>\n      <td>1</td>\n      <td>0</td>\n      <td>1</td>\n      <td>0</td>\n      <td>0</td>\n      <td>0</td>\n      <td>0</td>\n      <td>0</td>\n      <td>0</td>\n      <td>0</td>\n    </tr>\n    <tr>\n      <th>651</th>\n      <td>1.0</td>\n      <td>-0.403509</td>\n      <td>-0.327209</td>\n      <td>-0.348360</td>\n      <td>0.750979</td>\n      <td>0.500000</td>\n      <td>0.517241</td>\n      <td>0.552846</td>\n      <td>0.1875</td>\n      <td>0.3125</td>\n      <td>...</td>\n      <td>0</td>\n      <td>0</td>\n      <td>0</td>\n      <td>0</td>\n      <td>1</td>\n      <td>0</td>\n      <td>0</td>\n      <td>0</td>\n      <td>0</td>\n      <td>0</td>\n    </tr>\n    <tr>\n      <th>2225</th>\n      <td>1.0</td>\n      <td>-0.110276</td>\n      <td>-0.092738</td>\n      <td>-0.147051</td>\n      <td>0.369334</td>\n      <td>-0.611111</td>\n      <td>0.000000</td>\n      <td>0.552846</td>\n      <td>-0.8750</td>\n      <td>-0.9375</td>\n      <td>...</td>\n      <td>1</td>\n      <td>0</td>\n      <td>0</td>\n      <td>0</td>\n      <td>0</td>\n      <td>0</td>\n      <td>0</td>\n      <td>0</td>\n      <td>0</td>\n      <td>1</td>\n    </tr>\n    <tr>\n      <th>2357</th>\n      <td>1.0</td>\n      <td>-0.200501</td>\n      <td>-0.174978</td>\n      <td>-0.581719</td>\n      <td>0.273083</td>\n      <td>0.555556</td>\n      <td>0.517241</td>\n      <td>0.512195</td>\n      <td>0.3750</td>\n      <td>0.3750</td>\n      <td>...</td>\n      <td>1</td>\n      <td>0</td>\n      <td>0</td>\n      <td>0</td>\n      <td>0</td>\n      <td>0</td>\n      <td>0</td>\n      <td>0</td>\n      <td>1</td>\n      <td>0</td>\n    </tr>\n    <tr>\n      <th>670</th>\n      <td>1.0</td>\n      <td>0.588972</td>\n      <td>0.894138</td>\n      <td>2.319636</td>\n      <td>0.128148</td>\n      <td>-0.333333</td>\n      <td>-0.655172</td>\n      <td>0.276423</td>\n      <td>-0.6875</td>\n      <td>-0.8750</td>\n      <td>...</td>\n      <td>1</td>\n      <td>1</td>\n      <td>0</td>\n      <td>0</td>\n      <td>0</td>\n      <td>0</td>\n      <td>0</td>\n      <td>0</td>\n      <td>0</td>\n      <td>0</td>\n    </tr>\n  </tbody>\n</table>\n<p>5 rows × 27 columns</p>\n</div>"
     },
     "execution_count": 9,
     "metadata": {},
     "output_type": "execute_result"
    }
   ],
   "source": [
    "# Feature engineer X_train\n",
    "X_train_fe = feature_eng(X_train)\n",
    "X_train_fe.head() # Check first 5 rows"
   ],
   "metadata": {
    "collapsed": false,
    "ExecuteTime": {
     "end_time": "2023-07-10T08:47:01.242240500Z",
     "start_time": "2023-07-10T08:47:00.614863100Z"
    }
   }
  },
  {
   "cell_type": "code",
   "execution_count": 10,
   "outputs": [
    {
     "data": {
      "text/plain": "      const  Infant_deaths  Under_five_deaths  Adult_mortality  \\\n1590    1.0      -0.131868          -0.111969         0.102023   \n1752    1.0      -0.417582          -0.347490        -0.726046   \n772     1.0       0.793956           0.936293         0.415246   \n1735    1.0       1.810440           2.206564         0.940366   \n387     1.0      -0.406593          -0.339768        -0.643476   \n\n      Alcohol_consumption  Hepatitis_B  Measles       BMI   Polio  Diphtheria  \\\n1590             0.603565       0.4375      0.0  0.603306  0.1250      0.1875   \n1752             0.580824      -0.0625      0.1  0.595041  0.1875      0.1875   \n772              0.364474      -1.1875     -0.4  0.314050  0.0000      0.0000   \n1735             0.088506      -1.0000      0.0  0.181818 -0.8750     -0.8750   \n387              0.559312       0.1875     -0.2  0.578512  0.1875      0.1875   \n\n      ...  Economy_status_Developing  Region_Africa  Region_Asia  \\\n1590  ...                          1              0            0   \n1752  ...                          0              0            0   \n772   ...                          1              0            0   \n1735  ...                          1              1            0   \n387   ...                          0              0            0   \n\n      Region_Central America and Caribbean  Region_European Union  \\\n1590                                     1                      0   \n1752                                     0                      0   \n772                                      1                      0   \n1735                                     0                      0   \n387                                      0                      1   \n\n      Region_Middle East  Region_North America  Region_Oceania  \\\n1590                   0                     0               0   \n1752                   0                     0               0   \n772                    0                     0               0   \n1735                   0                     0               0   \n387                    0                     0               0   \n\n      Region_Rest of Europe  Region_South America  \n1590                      0                     0  \n1752                      1                     0  \n772                       0                     0  \n1735                      0                     0  \n387                       0                     0  \n\n[5 rows x 27 columns]",
      "text/html": "<div>\n<style scoped>\n    .dataframe tbody tr th:only-of-type {\n        vertical-align: middle;\n    }\n\n    .dataframe tbody tr th {\n        vertical-align: top;\n    }\n\n    .dataframe thead th {\n        text-align: right;\n    }\n</style>\n<table border=\"1\" class=\"dataframe\">\n  <thead>\n    <tr style=\"text-align: right;\">\n      <th></th>\n      <th>const</th>\n      <th>Infant_deaths</th>\n      <th>Under_five_deaths</th>\n      <th>Adult_mortality</th>\n      <th>Alcohol_consumption</th>\n      <th>Hepatitis_B</th>\n      <th>Measles</th>\n      <th>BMI</th>\n      <th>Polio</th>\n      <th>Diphtheria</th>\n      <th>...</th>\n      <th>Economy_status_Developing</th>\n      <th>Region_Africa</th>\n      <th>Region_Asia</th>\n      <th>Region_Central America and Caribbean</th>\n      <th>Region_European Union</th>\n      <th>Region_Middle East</th>\n      <th>Region_North America</th>\n      <th>Region_Oceania</th>\n      <th>Region_Rest of Europe</th>\n      <th>Region_South America</th>\n    </tr>\n  </thead>\n  <tbody>\n    <tr>\n      <th>1590</th>\n      <td>1.0</td>\n      <td>-0.131868</td>\n      <td>-0.111969</td>\n      <td>0.102023</td>\n      <td>0.603565</td>\n      <td>0.4375</td>\n      <td>0.0</td>\n      <td>0.603306</td>\n      <td>0.1250</td>\n      <td>0.1875</td>\n      <td>...</td>\n      <td>1</td>\n      <td>0</td>\n      <td>0</td>\n      <td>1</td>\n      <td>0</td>\n      <td>0</td>\n      <td>0</td>\n      <td>0</td>\n      <td>0</td>\n      <td>0</td>\n    </tr>\n    <tr>\n      <th>1752</th>\n      <td>1.0</td>\n      <td>-0.417582</td>\n      <td>-0.347490</td>\n      <td>-0.726046</td>\n      <td>0.580824</td>\n      <td>-0.0625</td>\n      <td>0.1</td>\n      <td>0.595041</td>\n      <td>0.1875</td>\n      <td>0.1875</td>\n      <td>...</td>\n      <td>0</td>\n      <td>0</td>\n      <td>0</td>\n      <td>0</td>\n      <td>0</td>\n      <td>0</td>\n      <td>0</td>\n      <td>0</td>\n      <td>1</td>\n      <td>0</td>\n    </tr>\n    <tr>\n      <th>772</th>\n      <td>1.0</td>\n      <td>0.793956</td>\n      <td>0.936293</td>\n      <td>0.415246</td>\n      <td>0.364474</td>\n      <td>-1.1875</td>\n      <td>-0.4</td>\n      <td>0.314050</td>\n      <td>0.0000</td>\n      <td>0.0000</td>\n      <td>...</td>\n      <td>1</td>\n      <td>0</td>\n      <td>0</td>\n      <td>1</td>\n      <td>0</td>\n      <td>0</td>\n      <td>0</td>\n      <td>0</td>\n      <td>0</td>\n      <td>0</td>\n    </tr>\n    <tr>\n      <th>1735</th>\n      <td>1.0</td>\n      <td>1.810440</td>\n      <td>2.206564</td>\n      <td>0.940366</td>\n      <td>0.088506</td>\n      <td>-1.0000</td>\n      <td>0.0</td>\n      <td>0.181818</td>\n      <td>-0.8750</td>\n      <td>-0.8750</td>\n      <td>...</td>\n      <td>1</td>\n      <td>1</td>\n      <td>0</td>\n      <td>0</td>\n      <td>0</td>\n      <td>0</td>\n      <td>0</td>\n      <td>0</td>\n      <td>0</td>\n      <td>0</td>\n    </tr>\n    <tr>\n      <th>387</th>\n      <td>1.0</td>\n      <td>-0.406593</td>\n      <td>-0.339768</td>\n      <td>-0.643476</td>\n      <td>0.559312</td>\n      <td>0.1875</td>\n      <td>-0.2</td>\n      <td>0.578512</td>\n      <td>0.1875</td>\n      <td>0.1875</td>\n      <td>...</td>\n      <td>0</td>\n      <td>0</td>\n      <td>0</td>\n      <td>0</td>\n      <td>1</td>\n      <td>0</td>\n      <td>0</td>\n      <td>0</td>\n      <td>0</td>\n      <td>0</td>\n    </tr>\n  </tbody>\n</table>\n<p>5 rows × 27 columns</p>\n</div>"
     },
     "execution_count": 10,
     "metadata": {},
     "output_type": "execute_result"
    }
   ],
   "source": [
    "# Feature engineer X_test\n",
    "X_test_fe = feature_eng(X_test)\n",
    "X_test_fe.head() # Check first 5 rows"
   ],
   "metadata": {
    "collapsed": false,
    "ExecuteTime": {
     "end_time": "2023-07-10T08:47:01.760375Z",
     "start_time": "2023-07-10T08:47:01.001826800Z"
    }
   }
  },
  {
   "cell_type": "code",
   "execution_count": 11,
   "outputs": [
    {
     "name": "stdout",
     "output_type": "stream",
     "text": [
      "Maximum of column Infant_deaths: 2.9022556390977443\n",
      "Maximum of column Infant_deaths: -0.4511278195488722\n"
     ]
    }
   ],
   "source": [
    "# Check min and max of one of the robust-scaled columns\n",
    "print(f'Maximum of column Infant_deaths: {X_train_fe.Infant_deaths.max()}')\n",
    "print(f'Maximum of column Infant_deaths: {X_train_fe.Infant_deaths.min()}')"
   ],
   "metadata": {
    "collapsed": false,
    "ExecuteTime": {
     "end_time": "2023-07-10T08:47:01.763382200Z",
     "start_time": "2023-07-10T08:47:01.293102800Z"
    }
   }
  },
  {
   "cell_type": "code",
   "execution_count": 12,
   "outputs": [
    {
     "name": "stdout",
     "output_type": "stream",
     "text": [
      "Minimum of column BMI: 0.0\n",
      "Maximum of column BMI: 0.9999999999999999\n"
     ]
    }
   ],
   "source": [
    "# Check min and max of one of the minmax-scaled columns\n",
    "print(f'Minimum of column BMI: {pd.DataFrame(X_train_fe).BMI.min()}')\n",
    "print(f'Maximum of column BMI: {pd.DataFrame(X_train_fe).Schooling.max()}')"
   ],
   "metadata": {
    "collapsed": false,
    "ExecuteTime": {
     "end_time": "2023-07-10T08:47:01.804259900Z",
     "start_time": "2023-07-10T08:47:01.332996700Z"
    }
   }
  },
  {
   "cell_type": "code",
   "execution_count": 13,
   "outputs": [],
   "source": [
    "# Save train/split data as csv files\n",
    "X_train_fe.to_csv('X_train_fe.csv', index=True)\n",
    "X_test_fe.to_csv('X_test_fe.csv', index=True)\n",
    "y_train.to_csv('y_train.csv', index=True)\n",
    "y_test.to_csv('y_test.csv', index=True)"
   ],
   "metadata": {
    "collapsed": false,
    "ExecuteTime": {
     "end_time": "2023-07-10T08:47:02.501398100Z",
     "start_time": "2023-07-10T08:47:01.393357200Z"
    }
   }
  },
  {
   "cell_type": "code",
   "execution_count": 17,
   "outputs": [
    {
     "data": {
      "text/plain": "   const  Infant_deaths  Under_five_deaths  Adult_mortality  \\\n1    1.0      -0.428571          -0.349956        -0.742836   \n\n   Alcohol_consumption  Hepatitis_B  Measles       BMI  Polio  Diphtheria  \\\n1             0.579183     0.444444  0.37931  0.504065   0.25        0.25   \n\n   ...  Economy_status_Developing  Region_Africa  Region_Asia  \\\n1  ...                          0              0            0   \n\n   Region_Central America and Caribbean  Region_European Union  \\\n1                                     0                      1   \n\n   Region_Middle East  Region_North America  Region_Oceania  \\\n1                   0                     0               0   \n\n   Region_Rest of Europe  Region_South America  \n1                      0                     0  \n\n[1 rows x 27 columns]",
      "text/html": "<div>\n<style scoped>\n    .dataframe tbody tr th:only-of-type {\n        vertical-align: middle;\n    }\n\n    .dataframe tbody tr th {\n        vertical-align: top;\n    }\n\n    .dataframe thead th {\n        text-align: right;\n    }\n</style>\n<table border=\"1\" class=\"dataframe\">\n  <thead>\n    <tr style=\"text-align: right;\">\n      <th></th>\n      <th>const</th>\n      <th>Infant_deaths</th>\n      <th>Under_five_deaths</th>\n      <th>Adult_mortality</th>\n      <th>Alcohol_consumption</th>\n      <th>Hepatitis_B</th>\n      <th>Measles</th>\n      <th>BMI</th>\n      <th>Polio</th>\n      <th>Diphtheria</th>\n      <th>...</th>\n      <th>Economy_status_Developing</th>\n      <th>Region_Africa</th>\n      <th>Region_Asia</th>\n      <th>Region_Central America and Caribbean</th>\n      <th>Region_European Union</th>\n      <th>Region_Middle East</th>\n      <th>Region_North America</th>\n      <th>Region_Oceania</th>\n      <th>Region_Rest of Europe</th>\n      <th>Region_South America</th>\n    </tr>\n  </thead>\n  <tbody>\n    <tr>\n      <th>1</th>\n      <td>1.0</td>\n      <td>-0.428571</td>\n      <td>-0.349956</td>\n      <td>-0.742836</td>\n      <td>0.579183</td>\n      <td>0.444444</td>\n      <td>0.37931</td>\n      <td>0.504065</td>\n      <td>0.25</td>\n      <td>0.25</td>\n      <td>...</td>\n      <td>0</td>\n      <td>0</td>\n      <td>0</td>\n      <td>0</td>\n      <td>1</td>\n      <td>0</td>\n      <td>0</td>\n      <td>0</td>\n      <td>0</td>\n      <td>0</td>\n    </tr>\n  </tbody>\n</table>\n<p>1 rows × 27 columns</p>\n</div>"
     },
     "execution_count": 17,
     "metadata": {},
     "output_type": "execute_result"
    }
   ],
   "source": [
    "X_train_fe.loc[X_train_fe.index==1]"
   ],
   "metadata": {
    "collapsed": false,
    "ExecuteTime": {
     "end_time": "2023-07-10T10:30:04.664053400Z",
     "start_time": "2023-07-10T10:30:04.616181100Z"
    }
   }
  },
  {
   "cell_type": "code",
   "execution_count": 16,
   "outputs": [
    {
     "data": {
      "text/plain": "Empty DataFrame\nColumns: [const, Infant_deaths, Under_five_deaths, Adult_mortality, Alcohol_consumption, Hepatitis_B, Measles, BMI, Polio, Diphtheria, Incidents_HIV, GDP_per_capita, Population_mln, Thinness_ten_nineteen_years, Thinness_five_nine_years, Schooling, Economy_status_Developed, Economy_status_Developing, Region_Africa, Region_Asia, Region_Central America and Caribbean, Region_European Union, Region_Middle East, Region_North America, Region_Oceania, Region_Rest of Europe, Region_South America]\nIndex: []\n\n[0 rows x 27 columns]",
      "text/html": "<div>\n<style scoped>\n    .dataframe tbody tr th:only-of-type {\n        vertical-align: middle;\n    }\n\n    .dataframe tbody tr th {\n        vertical-align: top;\n    }\n\n    .dataframe thead th {\n        text-align: right;\n    }\n</style>\n<table border=\"1\" class=\"dataframe\">\n  <thead>\n    <tr style=\"text-align: right;\">\n      <th></th>\n      <th>const</th>\n      <th>Infant_deaths</th>\n      <th>Under_five_deaths</th>\n      <th>Adult_mortality</th>\n      <th>Alcohol_consumption</th>\n      <th>Hepatitis_B</th>\n      <th>Measles</th>\n      <th>BMI</th>\n      <th>Polio</th>\n      <th>Diphtheria</th>\n      <th>...</th>\n      <th>Economy_status_Developing</th>\n      <th>Region_Africa</th>\n      <th>Region_Asia</th>\n      <th>Region_Central America and Caribbean</th>\n      <th>Region_European Union</th>\n      <th>Region_Middle East</th>\n      <th>Region_North America</th>\n      <th>Region_Oceania</th>\n      <th>Region_Rest of Europe</th>\n      <th>Region_South America</th>\n    </tr>\n  </thead>\n  <tbody>\n  </tbody>\n</table>\n<p>0 rows × 27 columns</p>\n</div>"
     },
     "execution_count": 16,
     "metadata": {},
     "output_type": "execute_result"
    }
   ],
   "source": [
    "X_test_fe.loc[X_test_fe.index==0]"
   ],
   "metadata": {
    "collapsed": false,
    "ExecuteTime": {
     "end_time": "2023-07-10T10:29:24.962544400Z",
     "start_time": "2023-07-10T10:29:24.866802500Z"
    }
   }
  },
  {
   "cell_type": "code",
   "execution_count": null,
   "outputs": [],
   "source": [],
   "metadata": {
    "collapsed": false
   }
  }
 ],
 "metadata": {
  "kernelspec": {
   "display_name": "Python 3",
   "language": "python",
   "name": "python3"
  },
  "language_info": {
   "codemirror_mode": {
    "name": "ipython",
    "version": 2
   },
   "file_extension": ".py",
   "mimetype": "text/x-python",
   "name": "python",
   "nbconvert_exporter": "python",
   "pygments_lexer": "ipython2",
   "version": "2.7.6"
  }
 },
 "nbformat": 4,
 "nbformat_minor": 0
}
