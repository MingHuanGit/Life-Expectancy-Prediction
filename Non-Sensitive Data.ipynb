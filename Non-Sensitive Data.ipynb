{
 "cells": [
  {
   "cell_type": "markdown",
   "source": [
    "# Creating a Model of Life Expectancy with Non-sensitive Data\n",
    "\n",
    "### Feature engineering and model building based on core model created before; we go through the same steps to choose which features to include in this non-sensitive model."
   ],
   "metadata": {
    "collapsed": false
   }
  },
  {
   "cell_type": "code",
   "execution_count": 35,
   "metadata": {
    "collapsed": true,
    "ExecuteTime": {
     "end_time": "2023-07-10T09:41:33.446908Z",
     "start_time": "2023-07-10T09:41:32.609833100Z"
    }
   },
   "outputs": [],
   "source": [
    "# Import necessary packages\n",
    "import pandas as pd\n",
    "from sklearn.model_selection import train_test_split\n",
    "import statsmodels.api as sm\n",
    "import statsmodels.tools\n",
    "from sklearn.preprocessing import RobustScaler, MinMaxScaler\n",
    "from statsmodels.stats.outliers_influence import variance_inflation_factor\n",
    "import pickle"
   ]
  },
  {
   "cell_type": "code",
   "execution_count": 36,
   "outputs": [
    {
     "data": {
      "text/plain": "   Country          Region  Year  Infant_deaths  Under_five_deaths  \\\n0  Turkiye     Middle East  2015           11.1               13.0   \n1    Spain  European Union  2015            2.7                3.3   \n2    India            Asia  2007           51.5               67.9   \n3   Guyana   South America  2006           32.8               40.5   \n4   Israel     Middle East  2012            3.4                4.3   \n\n   Adult_mortality  Alcohol_consumption  Hepatitis_B  Measles   BMI  ...  \\\n0         105.8240                 1.32           97       65  27.8  ...   \n1          57.9025                10.35           97       94  26.0  ...   \n2         201.0765                 1.57           60       35  21.2  ...   \n3         222.1965                 5.68           93       74  25.3  ...   \n4          57.9510                 2.89           97       89  27.0  ...   \n\n   Diphtheria  Incidents_HIV  GDP_per_capita  Population_mln  \\\n0          97           0.08           11006           78.53   \n1          97           0.09           25742           46.44   \n2          64           0.13            1076         1183.21   \n3          93           0.79            4146            0.75   \n4          94           0.08           33995            7.91   \n\n   Thinness_ten_nineteen_years  Thinness_five_nine_years  Schooling  \\\n0                          4.9                       4.8        7.8   \n1                          0.6                       0.5        9.7   \n2                         27.1                      28.0        5.0   \n3                          5.7                       5.5        7.9   \n4                          1.2                       1.1       12.8   \n\n   Economy_status_Developed  Economy_status_Developing  Life_expectancy  \n0                         0                          1             76.5  \n1                         1                          0             82.8  \n2                         0                          1             65.4  \n3                         0                          1             67.0  \n4                         1                          0             81.7  \n\n[5 rows x 21 columns]",
      "text/html": "<div>\n<style scoped>\n    .dataframe tbody tr th:only-of-type {\n        vertical-align: middle;\n    }\n\n    .dataframe tbody tr th {\n        vertical-align: top;\n    }\n\n    .dataframe thead th {\n        text-align: right;\n    }\n</style>\n<table border=\"1\" class=\"dataframe\">\n  <thead>\n    <tr style=\"text-align: right;\">\n      <th></th>\n      <th>Country</th>\n      <th>Region</th>\n      <th>Year</th>\n      <th>Infant_deaths</th>\n      <th>Under_five_deaths</th>\n      <th>Adult_mortality</th>\n      <th>Alcohol_consumption</th>\n      <th>Hepatitis_B</th>\n      <th>Measles</th>\n      <th>BMI</th>\n      <th>...</th>\n      <th>Diphtheria</th>\n      <th>Incidents_HIV</th>\n      <th>GDP_per_capita</th>\n      <th>Population_mln</th>\n      <th>Thinness_ten_nineteen_years</th>\n      <th>Thinness_five_nine_years</th>\n      <th>Schooling</th>\n      <th>Economy_status_Developed</th>\n      <th>Economy_status_Developing</th>\n      <th>Life_expectancy</th>\n    </tr>\n  </thead>\n  <tbody>\n    <tr>\n      <th>0</th>\n      <td>Turkiye</td>\n      <td>Middle East</td>\n      <td>2015</td>\n      <td>11.1</td>\n      <td>13.0</td>\n      <td>105.8240</td>\n      <td>1.32</td>\n      <td>97</td>\n      <td>65</td>\n      <td>27.8</td>\n      <td>...</td>\n      <td>97</td>\n      <td>0.08</td>\n      <td>11006</td>\n      <td>78.53</td>\n      <td>4.9</td>\n      <td>4.8</td>\n      <td>7.8</td>\n      <td>0</td>\n      <td>1</td>\n      <td>76.5</td>\n    </tr>\n    <tr>\n      <th>1</th>\n      <td>Spain</td>\n      <td>European Union</td>\n      <td>2015</td>\n      <td>2.7</td>\n      <td>3.3</td>\n      <td>57.9025</td>\n      <td>10.35</td>\n      <td>97</td>\n      <td>94</td>\n      <td>26.0</td>\n      <td>...</td>\n      <td>97</td>\n      <td>0.09</td>\n      <td>25742</td>\n      <td>46.44</td>\n      <td>0.6</td>\n      <td>0.5</td>\n      <td>9.7</td>\n      <td>1</td>\n      <td>0</td>\n      <td>82.8</td>\n    </tr>\n    <tr>\n      <th>2</th>\n      <td>India</td>\n      <td>Asia</td>\n      <td>2007</td>\n      <td>51.5</td>\n      <td>67.9</td>\n      <td>201.0765</td>\n      <td>1.57</td>\n      <td>60</td>\n      <td>35</td>\n      <td>21.2</td>\n      <td>...</td>\n      <td>64</td>\n      <td>0.13</td>\n      <td>1076</td>\n      <td>1183.21</td>\n      <td>27.1</td>\n      <td>28.0</td>\n      <td>5.0</td>\n      <td>0</td>\n      <td>1</td>\n      <td>65.4</td>\n    </tr>\n    <tr>\n      <th>3</th>\n      <td>Guyana</td>\n      <td>South America</td>\n      <td>2006</td>\n      <td>32.8</td>\n      <td>40.5</td>\n      <td>222.1965</td>\n      <td>5.68</td>\n      <td>93</td>\n      <td>74</td>\n      <td>25.3</td>\n      <td>...</td>\n      <td>93</td>\n      <td>0.79</td>\n      <td>4146</td>\n      <td>0.75</td>\n      <td>5.7</td>\n      <td>5.5</td>\n      <td>7.9</td>\n      <td>0</td>\n      <td>1</td>\n      <td>67.0</td>\n    </tr>\n    <tr>\n      <th>4</th>\n      <td>Israel</td>\n      <td>Middle East</td>\n      <td>2012</td>\n      <td>3.4</td>\n      <td>4.3</td>\n      <td>57.9510</td>\n      <td>2.89</td>\n      <td>97</td>\n      <td>89</td>\n      <td>27.0</td>\n      <td>...</td>\n      <td>94</td>\n      <td>0.08</td>\n      <td>33995</td>\n      <td>7.91</td>\n      <td>1.2</td>\n      <td>1.1</td>\n      <td>12.8</td>\n      <td>1</td>\n      <td>0</td>\n      <td>81.7</td>\n    </tr>\n  </tbody>\n</table>\n<p>5 rows × 21 columns</p>\n</div>"
     },
     "execution_count": 36,
     "metadata": {},
     "output_type": "execute_result"
    }
   ],
   "source": [
    "# Read in clean data\n",
    "df = pd.read_csv('Life-Expectancy-Data-Updated.csv')\n",
    "df.head()"
   ],
   "metadata": {
    "collapsed": false,
    "ExecuteTime": {
     "end_time": "2023-07-10T09:41:33.832149800Z",
     "start_time": "2023-07-10T09:41:32.638743800Z"
    }
   }
  },
  {
   "cell_type": "code",
   "execution_count": 37,
   "outputs": [],
   "source": [
    "# Create a copy of df\n",
    "sen_df = df.copy()"
   ],
   "metadata": {
    "collapsed": false,
    "ExecuteTime": {
     "end_time": "2023-07-10T09:41:33.833149700Z",
     "start_time": "2023-07-10T09:41:33.010761700Z"
    }
   }
  },
  {
   "cell_type": "markdown",
   "source": [
    "# Removing columns that can be regarded as sensitive for the user\n",
    "These columns include:\n",
    "'Alcohol_consumption', 'Measles', 'Diphtheria', 'Polio', 'Incidents_HIV', 'Hepatitis_B'\n",
    "As they contain sensitive information about alcohol usage and diseases"
   ],
   "metadata": {
    "collapsed": false
   }
  },
  {
   "cell_type": "code",
   "execution_count": 38,
   "outputs": [],
   "source": [
    "# Drop sensitive columns\n",
    "sen_df.drop(columns=['Country','Year', 'Alcohol_consumption', 'Measles', 'Diphtheria', 'Polio', 'Incidents_HIV', 'Hepatitis_B'], inplace=True)"
   ],
   "metadata": {
    "collapsed": false,
    "ExecuteTime": {
     "end_time": "2023-07-10T09:41:33.846109200Z",
     "start_time": "2023-07-10T09:41:33.055628500Z"
    }
   }
  },
  {
   "cell_type": "code",
   "execution_count": 39,
   "outputs": [
    {
     "data": {
      "text/plain": "Index(['Region', 'Infant_deaths', 'Under_five_deaths', 'Adult_mortality',\n       'BMI', 'GDP_per_capita', 'Population_mln',\n       'Thinness_ten_nineteen_years', 'Thinness_five_nine_years', 'Schooling',\n       'Economy_status_Developed', 'Economy_status_Developing',\n       'Life_expectancy'],\n      dtype='object')"
     },
     "execution_count": 39,
     "metadata": {},
     "output_type": "execute_result"
    }
   ],
   "source": [
    "# Check columns left\n",
    "sen_df.columns"
   ],
   "metadata": {
    "collapsed": false,
    "ExecuteTime": {
     "end_time": "2023-07-10T09:41:33.853093100Z",
     "start_time": "2023-07-10T09:41:33.281121600Z"
    }
   }
  },
  {
   "cell_type": "markdown",
   "source": [
    "# Train/Test Split and Feature Engineering"
   ],
   "metadata": {
    "collapsed": false
   }
  },
  {
   "cell_type": "code",
   "execution_count": 40,
   "outputs": [],
   "source": [
    "# Define feature columns\n",
    "feature_cols = list(sen_df.columns)\n",
    "feature_cols.remove('Life_expectancy') # Take out 'Life_expectancy' as this is the target\n",
    "\n",
    "# Create X and y\n",
    "X = sen_df[feature_cols]\n",
    "y = sen_df['Life_expectancy']"
   ],
   "metadata": {
    "collapsed": false,
    "ExecuteTime": {
     "end_time": "2023-07-10T09:41:33.854091100Z",
     "start_time": "2023-07-10T09:41:33.338967900Z"
    }
   }
  },
  {
   "cell_type": "code",
   "execution_count": 41,
   "outputs": [],
   "source": [
    "# Split data into train and test data\n",
    "X_train, X_test, y_train, y_test = train_test_split(X, y, test_size = 0.2, random_state = 42)"
   ],
   "metadata": {
    "collapsed": false,
    "ExecuteTime": {
     "end_time": "2023-07-10T09:41:33.855087Z",
     "start_time": "2023-07-10T09:41:33.400900900Z"
    }
   }
  },
  {
   "cell_type": "code",
   "execution_count": 42,
   "outputs": [],
   "source": [
    "# Define feature engineering function\n",
    "def feature_eng(df):\n",
    "    df = df.copy() # Copy dataframe\n",
    "\n",
    "    ''' One hot encoding'''\n",
    "    df = pd.get_dummies(df, columns = ['Region'], prefix = 'Region')\n",
    "\n",
    "    ''' MinMax scaling '''\n",
    "    minmax = MinMaxScaler() # Initialise scaler\n",
    "    # Fit and transform scaler\n",
    "    df[['BMI', 'Schooling']] = minmax.fit_transform(df[['BMI', 'Schooling']])\n",
    "\n",
    "    ''' Robust scaling '''\n",
    "    # Define list of columns to be robust scaled\n",
    "    robust_list = ['Infant_deaths',\n",
    "                   'Under_five_deaths',\n",
    "                   'Adult_mortality',\n",
    "                   'GDP_per_capita',\n",
    "                   'Population_mln',\n",
    "                   'Thinness_ten_nineteen_years',\n",
    "                   'Thinness_five_nine_years',]\n",
    "    rob = RobustScaler() # Initialise scaler\n",
    "    # Fit and transform scaler\n",
    "    df[robust_list] = rob.fit_transform(df[robust_list])\n",
    "\n",
    "    ''' Add constant '''\n",
    "    df = sm.add_constant(df)\n",
    "\n",
    "    return df"
   ],
   "metadata": {
    "collapsed": false,
    "ExecuteTime": {
     "end_time": "2023-07-10T09:41:34.082606700Z",
     "start_time": "2023-07-10T09:41:33.451906800Z"
    }
   }
  },
  {
   "cell_type": "code",
   "execution_count": 43,
   "outputs": [
    {
     "data": {
      "text/plain": "      const  Infant_deaths  Under_five_deaths  Adult_mortality       BMI  \\\n2026    1.0      -0.298246          -0.244969        -0.369456  0.252033   \n651     1.0      -0.403509          -0.327209        -0.348360  0.552846   \n2225    1.0      -0.110276          -0.092738        -0.147051  0.552846   \n2357    1.0      -0.200501          -0.174978        -0.581719  0.512195   \n670     1.0       0.588972           0.894138         2.319636  0.276423   \n\n      GDP_per_capita  Population_mln  Thinness_ten_nineteen_years  \\\n2026       -0.045581        0.564994                     2.051724   \n651         0.855270        0.093200                    -0.206897   \n2225        1.027696        0.977926                    -0.293103   \n2357       -0.055739       -0.231884                    -0.327586   \n670        -0.079962       -0.277815                     1.879310   \n\n      Thinness_five_nine_years  Schooling  ...  Economy_status_Developing  \\\n2026                  2.017241   0.759690  ...                          1   \n651                  -0.189655   0.813953  ...                          0   \n2225                 -0.310345   0.689922  ...                          1   \n2357                 -0.310345   0.635659  ...                          1   \n670                   1.896552   0.364341  ...                          1   \n\n      Region_Africa  Region_Asia  Region_Central America and Caribbean  \\\n2026              0            1                                     0   \n651               0            0                                     0   \n2225              0            0                                     0   \n2357              0            0                                     0   \n670               1            0                                     0   \n\n      Region_European Union  Region_Middle East  Region_North America  \\\n2026                      0                   0                     0   \n651                       1                   0                     0   \n2225                      0                   0                     0   \n2357                      0                   0                     0   \n670                       0                   0                     0   \n\n      Region_Oceania  Region_Rest of Europe  Region_South America  \n2026               0                      0                     0  \n651                0                      0                     0  \n2225               0                      0                     1  \n2357               0                      1                     0  \n670                0                      0                     0  \n\n[5 rows x 21 columns]",
      "text/html": "<div>\n<style scoped>\n    .dataframe tbody tr th:only-of-type {\n        vertical-align: middle;\n    }\n\n    .dataframe tbody tr th {\n        vertical-align: top;\n    }\n\n    .dataframe thead th {\n        text-align: right;\n    }\n</style>\n<table border=\"1\" class=\"dataframe\">\n  <thead>\n    <tr style=\"text-align: right;\">\n      <th></th>\n      <th>const</th>\n      <th>Infant_deaths</th>\n      <th>Under_five_deaths</th>\n      <th>Adult_mortality</th>\n      <th>BMI</th>\n      <th>GDP_per_capita</th>\n      <th>Population_mln</th>\n      <th>Thinness_ten_nineteen_years</th>\n      <th>Thinness_five_nine_years</th>\n      <th>Schooling</th>\n      <th>...</th>\n      <th>Economy_status_Developing</th>\n      <th>Region_Africa</th>\n      <th>Region_Asia</th>\n      <th>Region_Central America and Caribbean</th>\n      <th>Region_European Union</th>\n      <th>Region_Middle East</th>\n      <th>Region_North America</th>\n      <th>Region_Oceania</th>\n      <th>Region_Rest of Europe</th>\n      <th>Region_South America</th>\n    </tr>\n  </thead>\n  <tbody>\n    <tr>\n      <th>2026</th>\n      <td>1.0</td>\n      <td>-0.298246</td>\n      <td>-0.244969</td>\n      <td>-0.369456</td>\n      <td>0.252033</td>\n      <td>-0.045581</td>\n      <td>0.564994</td>\n      <td>2.051724</td>\n      <td>2.017241</td>\n      <td>0.759690</td>\n      <td>...</td>\n      <td>1</td>\n      <td>0</td>\n      <td>1</td>\n      <td>0</td>\n      <td>0</td>\n      <td>0</td>\n      <td>0</td>\n      <td>0</td>\n      <td>0</td>\n      <td>0</td>\n    </tr>\n    <tr>\n      <th>651</th>\n      <td>1.0</td>\n      <td>-0.403509</td>\n      <td>-0.327209</td>\n      <td>-0.348360</td>\n      <td>0.552846</td>\n      <td>0.855270</td>\n      <td>0.093200</td>\n      <td>-0.206897</td>\n      <td>-0.189655</td>\n      <td>0.813953</td>\n      <td>...</td>\n      <td>0</td>\n      <td>0</td>\n      <td>0</td>\n      <td>0</td>\n      <td>1</td>\n      <td>0</td>\n      <td>0</td>\n      <td>0</td>\n      <td>0</td>\n      <td>0</td>\n    </tr>\n    <tr>\n      <th>2225</th>\n      <td>1.0</td>\n      <td>-0.110276</td>\n      <td>-0.092738</td>\n      <td>-0.147051</td>\n      <td>0.552846</td>\n      <td>1.027696</td>\n      <td>0.977926</td>\n      <td>-0.293103</td>\n      <td>-0.310345</td>\n      <td>0.689922</td>\n      <td>...</td>\n      <td>1</td>\n      <td>0</td>\n      <td>0</td>\n      <td>0</td>\n      <td>0</td>\n      <td>0</td>\n      <td>0</td>\n      <td>0</td>\n      <td>0</td>\n      <td>1</td>\n    </tr>\n    <tr>\n      <th>2357</th>\n      <td>1.0</td>\n      <td>-0.200501</td>\n      <td>-0.174978</td>\n      <td>-0.581719</td>\n      <td>0.512195</td>\n      <td>-0.055739</td>\n      <td>-0.231884</td>\n      <td>-0.327586</td>\n      <td>-0.310345</td>\n      <td>0.635659</td>\n      <td>...</td>\n      <td>1</td>\n      <td>0</td>\n      <td>0</td>\n      <td>0</td>\n      <td>0</td>\n      <td>0</td>\n      <td>0</td>\n      <td>0</td>\n      <td>1</td>\n      <td>0</td>\n    </tr>\n    <tr>\n      <th>670</th>\n      <td>1.0</td>\n      <td>0.588972</td>\n      <td>0.894138</td>\n      <td>2.319636</td>\n      <td>0.276423</td>\n      <td>-0.079962</td>\n      <td>-0.277815</td>\n      <td>1.879310</td>\n      <td>1.896552</td>\n      <td>0.364341</td>\n      <td>...</td>\n      <td>1</td>\n      <td>1</td>\n      <td>0</td>\n      <td>0</td>\n      <td>0</td>\n      <td>0</td>\n      <td>0</td>\n      <td>0</td>\n      <td>0</td>\n      <td>0</td>\n    </tr>\n  </tbody>\n</table>\n<p>5 rows × 21 columns</p>\n</div>"
     },
     "execution_count": 43,
     "metadata": {},
     "output_type": "execute_result"
    }
   ],
   "source": [
    "# Feature engineer X-train\n",
    "X_train_fe = feature_eng(X_train)\n",
    "X_train_fe.head() # Check first 5 rows"
   ],
   "metadata": {
    "collapsed": false,
    "ExecuteTime": {
     "end_time": "2023-07-10T09:41:34.185886900Z",
     "start_time": "2023-07-10T09:41:33.510963100Z"
    }
   }
  },
  {
   "cell_type": "code",
   "execution_count": 44,
   "outputs": [
    {
     "data": {
      "text/plain": "      const  Infant_deaths  Under_five_deaths  Adult_mortality       BMI  \\\n1590    1.0      -0.131868          -0.111969         0.102023  0.603306   \n1752    1.0      -0.417582          -0.347490        -0.726046  0.595041   \n772     1.0       0.793956           0.936293         0.415246  0.314050   \n1735    1.0       1.810440           2.206564         0.940366  0.181818   \n387     1.0      -0.406593          -0.339768        -0.643476  0.578512   \n\n      GDP_per_capita  Population_mln  Thinness_ten_nineteen_years  \\\n1590        3.081819       -0.374263                    -0.173077   \n1752        3.930425        3.071850                    -0.500000   \n772        -0.297444       -0.383914                     0.807692   \n1735       -0.315033       -0.023592                     1.211538   \n387         1.746186        0.195710                    -0.500000   \n\n      Thinness_five_nine_years  Schooling  ...  Economy_status_Developing  \\\n1590                 -0.169811   0.751938  ...                          1   \n1752                 -0.547170   0.891473  ...                          0   \n772                   0.792453   0.240310  ...                          1   \n1735                  1.169811   0.108527  ...                          1   \n387                  -0.490566   0.651163  ...                          0   \n\n      Region_Africa  Region_Asia  Region_Central America and Caribbean  \\\n1590              0            0                                     1   \n1752              0            0                                     0   \n772               0            0                                     1   \n1735              1            0                                     0   \n387               0            0                                     0   \n\n      Region_European Union  Region_Middle East  Region_North America  \\\n1590                      0                   0                     0   \n1752                      0                   0                     0   \n772                       0                   0                     0   \n1735                      0                   0                     0   \n387                       1                   0                     0   \n\n      Region_Oceania  Region_Rest of Europe  Region_South America  \n1590               0                      0                     0  \n1752               0                      1                     0  \n772                0                      0                     0  \n1735               0                      0                     0  \n387                0                      0                     0  \n\n[5 rows x 21 columns]",
      "text/html": "<div>\n<style scoped>\n    .dataframe tbody tr th:only-of-type {\n        vertical-align: middle;\n    }\n\n    .dataframe tbody tr th {\n        vertical-align: top;\n    }\n\n    .dataframe thead th {\n        text-align: right;\n    }\n</style>\n<table border=\"1\" class=\"dataframe\">\n  <thead>\n    <tr style=\"text-align: right;\">\n      <th></th>\n      <th>const</th>\n      <th>Infant_deaths</th>\n      <th>Under_five_deaths</th>\n      <th>Adult_mortality</th>\n      <th>BMI</th>\n      <th>GDP_per_capita</th>\n      <th>Population_mln</th>\n      <th>Thinness_ten_nineteen_years</th>\n      <th>Thinness_five_nine_years</th>\n      <th>Schooling</th>\n      <th>...</th>\n      <th>Economy_status_Developing</th>\n      <th>Region_Africa</th>\n      <th>Region_Asia</th>\n      <th>Region_Central America and Caribbean</th>\n      <th>Region_European Union</th>\n      <th>Region_Middle East</th>\n      <th>Region_North America</th>\n      <th>Region_Oceania</th>\n      <th>Region_Rest of Europe</th>\n      <th>Region_South America</th>\n    </tr>\n  </thead>\n  <tbody>\n    <tr>\n      <th>1590</th>\n      <td>1.0</td>\n      <td>-0.131868</td>\n      <td>-0.111969</td>\n      <td>0.102023</td>\n      <td>0.603306</td>\n      <td>3.081819</td>\n      <td>-0.374263</td>\n      <td>-0.173077</td>\n      <td>-0.169811</td>\n      <td>0.751938</td>\n      <td>...</td>\n      <td>1</td>\n      <td>0</td>\n      <td>0</td>\n      <td>1</td>\n      <td>0</td>\n      <td>0</td>\n      <td>0</td>\n      <td>0</td>\n      <td>0</td>\n      <td>0</td>\n    </tr>\n    <tr>\n      <th>1752</th>\n      <td>1.0</td>\n      <td>-0.417582</td>\n      <td>-0.347490</td>\n      <td>-0.726046</td>\n      <td>0.595041</td>\n      <td>3.930425</td>\n      <td>3.071850</td>\n      <td>-0.500000</td>\n      <td>-0.547170</td>\n      <td>0.891473</td>\n      <td>...</td>\n      <td>0</td>\n      <td>0</td>\n      <td>0</td>\n      <td>0</td>\n      <td>0</td>\n      <td>0</td>\n      <td>0</td>\n      <td>0</td>\n      <td>1</td>\n      <td>0</td>\n    </tr>\n    <tr>\n      <th>772</th>\n      <td>1.0</td>\n      <td>0.793956</td>\n      <td>0.936293</td>\n      <td>0.415246</td>\n      <td>0.314050</td>\n      <td>-0.297444</td>\n      <td>-0.383914</td>\n      <td>0.807692</td>\n      <td>0.792453</td>\n      <td>0.240310</td>\n      <td>...</td>\n      <td>1</td>\n      <td>0</td>\n      <td>0</td>\n      <td>1</td>\n      <td>0</td>\n      <td>0</td>\n      <td>0</td>\n      <td>0</td>\n      <td>0</td>\n      <td>0</td>\n    </tr>\n    <tr>\n      <th>1735</th>\n      <td>1.0</td>\n      <td>1.810440</td>\n      <td>2.206564</td>\n      <td>0.940366</td>\n      <td>0.181818</td>\n      <td>-0.315033</td>\n      <td>-0.023592</td>\n      <td>1.211538</td>\n      <td>1.169811</td>\n      <td>0.108527</td>\n      <td>...</td>\n      <td>1</td>\n      <td>1</td>\n      <td>0</td>\n      <td>0</td>\n      <td>0</td>\n      <td>0</td>\n      <td>0</td>\n      <td>0</td>\n      <td>0</td>\n      <td>0</td>\n    </tr>\n    <tr>\n      <th>387</th>\n      <td>1.0</td>\n      <td>-0.406593</td>\n      <td>-0.339768</td>\n      <td>-0.643476</td>\n      <td>0.578512</td>\n      <td>1.746186</td>\n      <td>0.195710</td>\n      <td>-0.500000</td>\n      <td>-0.490566</td>\n      <td>0.651163</td>\n      <td>...</td>\n      <td>0</td>\n      <td>0</td>\n      <td>0</td>\n      <td>0</td>\n      <td>1</td>\n      <td>0</td>\n      <td>0</td>\n      <td>0</td>\n      <td>0</td>\n      <td>0</td>\n    </tr>\n  </tbody>\n</table>\n<p>5 rows × 21 columns</p>\n</div>"
     },
     "execution_count": 44,
     "metadata": {},
     "output_type": "execute_result"
    }
   ],
   "source": [
    "# Feature engineer X-test\n",
    "X_test_fe = feature_eng(X_test)\n",
    "X_test_fe.head() # Check first 5 rows"
   ],
   "metadata": {
    "collapsed": false,
    "ExecuteTime": {
     "end_time": "2023-07-10T09:41:34.187882700Z",
     "start_time": "2023-07-10T09:41:33.662592900Z"
    }
   }
  },
  {
   "cell_type": "markdown",
   "source": [
    "# Drop columns based on VIF and p-values\n",
    "## Dropping columns by their VIF"
   ],
   "metadata": {
    "collapsed": false
   }
  },
  {
   "cell_type": "code",
   "execution_count": 45,
   "outputs": [],
   "source": [
    "# Define function that drops columns if VIF scores are higher than 5 in a stepwise manner\n",
    "def calculate_vif(X, thresh = 5.0):\n",
    "    variables = list(range(X.shape[1])) # List of number of rows\n",
    "    dropped = True\n",
    "    while dropped:\n",
    "        dropped = False\n",
    "        # List comprehension to gather all the VIF values of the different variables\n",
    "        vif = [variance_inflation_factor(X.iloc[:, variables].values, ix)\n",
    "               for ix in range(X.iloc[:, variables].shape[1])]\n",
    "\n",
    "        maxloc = vif.index(max(vif)) # Get the index of the highest VIF value\n",
    "        if max(vif) > thresh:\n",
    "            print('dropping \\'' + X.iloc[:, variables].columns[maxloc] +\n",
    "                  '\\' at index: ' + str(maxloc))\n",
    "            del variables[maxloc] # Delete the highest VIF value on condition that it's higher than the threshold\n",
    "            dropped = True # If we deleted anything, we set the 'dropped' value to True to stay in the while loop\n",
    "\n",
    "            print('Remaining variables:')\n",
    "            print(X.columns[variables]) # Finally, print the variables that are still in our set\n",
    "    return X.iloc[:, variables] # Return our X cut down to the remaining variables"
   ],
   "metadata": {
    "collapsed": false,
    "ExecuteTime": {
     "end_time": "2023-07-10T09:41:34.234756700Z",
     "start_time": "2023-07-10T09:41:33.814197300Z"
    }
   }
  },
  {
   "cell_type": "code",
   "execution_count": 46,
   "outputs": [
    {
     "name": "stderr",
     "output_type": "stream",
     "text": [
      "C:\\Users\\Ming\\anaconda3\\lib\\site-packages\\statsmodels\\stats\\outliers_influence.py:195: RuntimeWarning: divide by zero encountered in double_scalars\n",
      "  vif = 1. / (1. - r_squared_i)\n"
     ]
    },
    {
     "name": "stdout",
     "output_type": "stream",
     "text": [
      "dropping 'Economy_status_Developed' at index: 9\n",
      "Remaining variables:\n",
      "Index(['Infant_deaths', 'Under_five_deaths', 'Adult_mortality', 'BMI',\n",
      "       'GDP_per_capita', 'Population_mln', 'Thinness_ten_nineteen_years',\n",
      "       'Thinness_five_nine_years', 'Schooling', 'Economy_status_Developing',\n",
      "       'Region_Africa', 'Region_Asia', 'Region_Central America and Caribbean',\n",
      "       'Region_European Union', 'Region_Middle East', 'Region_North America',\n",
      "       'Region_Oceania', 'Region_Rest of Europe', 'Region_South America'],\n",
      "      dtype='object')\n",
      "dropping 'Under_five_deaths' at index: 1\n",
      "Remaining variables:\n",
      "Index(['Infant_deaths', 'Adult_mortality', 'BMI', 'GDP_per_capita',\n",
      "       'Population_mln', 'Thinness_ten_nineteen_years',\n",
      "       'Thinness_five_nine_years', 'Schooling', 'Economy_status_Developing',\n",
      "       'Region_Africa', 'Region_Asia', 'Region_Central America and Caribbean',\n",
      "       'Region_European Union', 'Region_Middle East', 'Region_North America',\n",
      "       'Region_Oceania', 'Region_Rest of Europe', 'Region_South America'],\n",
      "      dtype='object')\n",
      "dropping 'Region_Africa' at index: 9\n",
      "Remaining variables:\n",
      "Index(['Infant_deaths', 'Adult_mortality', 'BMI', 'GDP_per_capita',\n",
      "       'Population_mln', 'Thinness_ten_nineteen_years',\n",
      "       'Thinness_five_nine_years', 'Schooling', 'Economy_status_Developing',\n",
      "       'Region_Asia', 'Region_Central America and Caribbean',\n",
      "       'Region_European Union', 'Region_Middle East', 'Region_North America',\n",
      "       'Region_Oceania', 'Region_Rest of Europe', 'Region_South America'],\n",
      "      dtype='object')\n",
      "dropping 'BMI' at index: 2\n",
      "Remaining variables:\n",
      "Index(['Infant_deaths', 'Adult_mortality', 'GDP_per_capita', 'Population_mln',\n",
      "       'Thinness_ten_nineteen_years', 'Thinness_five_nine_years', 'Schooling',\n",
      "       'Economy_status_Developing', 'Region_Asia',\n",
      "       'Region_Central America and Caribbean', 'Region_European Union',\n",
      "       'Region_Middle East', 'Region_North America', 'Region_Oceania',\n",
      "       'Region_Rest of Europe', 'Region_South America'],\n",
      "      dtype='object')\n",
      "dropping 'Schooling' at index: 6\n",
      "Remaining variables:\n",
      "Index(['Infant_deaths', 'Adult_mortality', 'GDP_per_capita', 'Population_mln',\n",
      "       'Thinness_ten_nineteen_years', 'Thinness_five_nine_years',\n",
      "       'Economy_status_Developing', 'Region_Asia',\n",
      "       'Region_Central America and Caribbean', 'Region_European Union',\n",
      "       'Region_Middle East', 'Region_North America', 'Region_Oceania',\n",
      "       'Region_Rest of Europe', 'Region_South America'],\n",
      "      dtype='object')\n",
      "dropping 'Thinness_five_nine_years' at index: 5\n",
      "Remaining variables:\n",
      "Index(['Infant_deaths', 'Adult_mortality', 'GDP_per_capita', 'Population_mln',\n",
      "       'Thinness_ten_nineteen_years', 'Economy_status_Developing',\n",
      "       'Region_Asia', 'Region_Central America and Caribbean',\n",
      "       'Region_European Union', 'Region_Middle East', 'Region_North America',\n",
      "       'Region_Oceania', 'Region_Rest of Europe', 'Region_South America'],\n",
      "      dtype='object')\n",
      "dropping 'Economy_status_Developing' at index: 5\n",
      "Remaining variables:\n",
      "Index(['Infant_deaths', 'Adult_mortality', 'GDP_per_capita', 'Population_mln',\n",
      "       'Thinness_ten_nineteen_years', 'Region_Asia',\n",
      "       'Region_Central America and Caribbean', 'Region_European Union',\n",
      "       'Region_Middle East', 'Region_North America', 'Region_Oceania',\n",
      "       'Region_Rest of Europe', 'Region_South America'],\n",
      "      dtype='object')\n"
     ]
    }
   ],
   "source": [
    "X_train_fe_2 = calculate_vif(X_train_fe[['Infant_deaths', 'Under_five_deaths', 'Adult_mortality',\n",
    "                                         'BMI', 'GDP_per_capita', 'Population_mln',\n",
    "                                         'Thinness_ten_nineteen_years', 'Thinness_five_nine_years', 'Schooling',\n",
    "                                         'Economy_status_Developed', 'Economy_status_Developing',\n",
    "                                         'Region_Africa', 'Region_Asia', 'Region_Central America and Caribbean',\n",
    "                                         'Region_European Union', 'Region_Middle East', 'Region_North America',\n",
    "                                         'Region_Oceania', 'Region_Rest of Europe', 'Region_South America']])"
   ],
   "metadata": {
    "collapsed": false,
    "ExecuteTime": {
     "end_time": "2023-07-10T09:41:38.518010Z",
     "start_time": "2023-07-10T09:41:33.860085700Z"
    }
   }
  },
  {
   "cell_type": "code",
   "execution_count": 47,
   "outputs": [],
   "source": [
    "# Add back the constant\n",
    "X_train_fe_2 = sm.add_constant(X_train_fe_2)"
   ],
   "metadata": {
    "collapsed": false,
    "ExecuteTime": {
     "end_time": "2023-07-10T09:41:38.554907900Z",
     "start_time": "2023-07-10T09:41:38.519007Z"
    }
   }
  },
  {
   "cell_type": "code",
   "execution_count": 48,
   "outputs": [
    {
     "data": {
      "text/plain": "      const  Infant_deaths  Adult_mortality  GDP_per_capita  Population_mln  \\\n2026    1.0      -0.298246        -0.369456       -0.045581        0.564994   \n651     1.0      -0.403509        -0.348360        0.855270        0.093200   \n2225    1.0      -0.110276        -0.147051        1.027696        0.977926   \n2357    1.0      -0.200501        -0.581719       -0.055739       -0.231884   \n670     1.0       0.588972         2.319636       -0.079962       -0.277815   \n\n      Thinness_ten_nineteen_years  Region_Asia  \\\n2026                     2.051724            1   \n651                     -0.206897            0   \n2225                    -0.293103            0   \n2357                    -0.327586            0   \n670                      1.879310            0   \n\n      Region_Central America and Caribbean  Region_European Union  \\\n2026                                     0                      0   \n651                                      0                      1   \n2225                                     0                      0   \n2357                                     0                      0   \n670                                      0                      0   \n\n      Region_Middle East  Region_North America  Region_Oceania  \\\n2026                   0                     0               0   \n651                    0                     0               0   \n2225                   0                     0               0   \n2357                   0                     0               0   \n670                    0                     0               0   \n\n      Region_Rest of Europe  Region_South America  \n2026                      0                     0  \n651                       0                     0  \n2225                      0                     1  \n2357                      1                     0  \n670                       0                     0  ",
      "text/html": "<div>\n<style scoped>\n    .dataframe tbody tr th:only-of-type {\n        vertical-align: middle;\n    }\n\n    .dataframe tbody tr th {\n        vertical-align: top;\n    }\n\n    .dataframe thead th {\n        text-align: right;\n    }\n</style>\n<table border=\"1\" class=\"dataframe\">\n  <thead>\n    <tr style=\"text-align: right;\">\n      <th></th>\n      <th>const</th>\n      <th>Infant_deaths</th>\n      <th>Adult_mortality</th>\n      <th>GDP_per_capita</th>\n      <th>Population_mln</th>\n      <th>Thinness_ten_nineteen_years</th>\n      <th>Region_Asia</th>\n      <th>Region_Central America and Caribbean</th>\n      <th>Region_European Union</th>\n      <th>Region_Middle East</th>\n      <th>Region_North America</th>\n      <th>Region_Oceania</th>\n      <th>Region_Rest of Europe</th>\n      <th>Region_South America</th>\n    </tr>\n  </thead>\n  <tbody>\n    <tr>\n      <th>2026</th>\n      <td>1.0</td>\n      <td>-0.298246</td>\n      <td>-0.369456</td>\n      <td>-0.045581</td>\n      <td>0.564994</td>\n      <td>2.051724</td>\n      <td>1</td>\n      <td>0</td>\n      <td>0</td>\n      <td>0</td>\n      <td>0</td>\n      <td>0</td>\n      <td>0</td>\n      <td>0</td>\n    </tr>\n    <tr>\n      <th>651</th>\n      <td>1.0</td>\n      <td>-0.403509</td>\n      <td>-0.348360</td>\n      <td>0.855270</td>\n      <td>0.093200</td>\n      <td>-0.206897</td>\n      <td>0</td>\n      <td>0</td>\n      <td>1</td>\n      <td>0</td>\n      <td>0</td>\n      <td>0</td>\n      <td>0</td>\n      <td>0</td>\n    </tr>\n    <tr>\n      <th>2225</th>\n      <td>1.0</td>\n      <td>-0.110276</td>\n      <td>-0.147051</td>\n      <td>1.027696</td>\n      <td>0.977926</td>\n      <td>-0.293103</td>\n      <td>0</td>\n      <td>0</td>\n      <td>0</td>\n      <td>0</td>\n      <td>0</td>\n      <td>0</td>\n      <td>0</td>\n      <td>1</td>\n    </tr>\n    <tr>\n      <th>2357</th>\n      <td>1.0</td>\n      <td>-0.200501</td>\n      <td>-0.581719</td>\n      <td>-0.055739</td>\n      <td>-0.231884</td>\n      <td>-0.327586</td>\n      <td>0</td>\n      <td>0</td>\n      <td>0</td>\n      <td>0</td>\n      <td>0</td>\n      <td>0</td>\n      <td>1</td>\n      <td>0</td>\n    </tr>\n    <tr>\n      <th>670</th>\n      <td>1.0</td>\n      <td>0.588972</td>\n      <td>2.319636</td>\n      <td>-0.079962</td>\n      <td>-0.277815</td>\n      <td>1.879310</td>\n      <td>0</td>\n      <td>0</td>\n      <td>0</td>\n      <td>0</td>\n      <td>0</td>\n      <td>0</td>\n      <td>0</td>\n      <td>0</td>\n    </tr>\n  </tbody>\n</table>\n</div>"
     },
     "execution_count": 48,
     "metadata": {},
     "output_type": "execute_result"
    }
   ],
   "source": [
    "# Get first 5 rows\n",
    "X_train_fe_2.head()"
   ],
   "metadata": {
    "collapsed": false,
    "ExecuteTime": {
     "end_time": "2023-07-10T09:41:38.645666Z",
     "start_time": "2023-07-10T09:41:38.553910500Z"
    }
   }
  },
  {
   "cell_type": "markdown",
   "source": [
    "## Dropping columns by their p-value"
   ],
   "metadata": {
    "collapsed": false
   }
  },
  {
   "cell_type": "code",
   "execution_count": 49,
   "outputs": [],
   "source": [
    "# Define function that drops columns by their p-value in a stepwise manner\n",
    "def stepwise_selection(X, y, threshold_in = 0.01, threshold_out = 0.05, verbose = True):\n",
    "    # The function is checking for p-values (whether features are statistically significant) - lower is better\n",
    "\n",
    "    included = [] # This is going to be the list of features we keep\n",
    "\n",
    "    while True:\n",
    "        changed = False\n",
    "        ''' Forward step '''\n",
    "        excluded = list(set(X.columns) - set(included)) # Get list of excluded columns\n",
    "        new_pval = pd.Series(index = excluded, dtype = 'float64') # Create empty series\n",
    "        for new_column in excluded: # Iterate through each excluded column\n",
    "            model = sm.OLS(y, sm.add_constant(pd.DataFrame(X[included + [new_column]]))).fit() # Fit model using included columns and new_column\n",
    "            new_pval[new_column] = model.pvalues[new_column] # Put p-value of each column into series\n",
    "        best_pval = new_pval.min() # Get the best p-value\n",
    "        # Add the feature with the lowest (best) p-value under the threshold to our 'included' list\n",
    "        if best_pval < threshold_in:\n",
    "            best_feature = new_pval.idxmin() # 'Lowest' p-value\n",
    "            included.append(best_feature) # Append feature to 'included' list\n",
    "            changed = True\n",
    "            if verbose:\n",
    "                print('Add  {:30} with p-value {:.6}'.format(best_feature, best_pval)) # Specifying the verbose text\n",
    "\n",
    "\n",
    "        ''' Backward step: removing features if new features added to the list make them statistically insignificant '''\n",
    "        model = sm.OLS(y, sm.add_constant(pd.DataFrame(X[included]))).fit() # Fit model using all included columns\n",
    "        # Use all coefs except intercept\n",
    "        pvalues = model.pvalues.iloc[1:] # Get all p-values\n",
    "        worst_pval = pvalues.max() # Null if pvalues is empty\n",
    "        # If the p-value exceeds the upper threshold, the feature will be dropped from the 'included' list\n",
    "        if worst_pval > threshold_out:\n",
    "            changed = True\n",
    "            worst_feature = pvalues.idxmax()\n",
    "            included.remove(worst_feature)\n",
    "            if verbose:\n",
    "                print('Drop {:30} with p-value {:.6}'.format(worst_feature, worst_pval)) # Specifying the verbose text\n",
    "        if not changed:\n",
    "            break\n",
    "    return included"
   ],
   "metadata": {
    "collapsed": false,
    "ExecuteTime": {
     "end_time": "2023-07-10T09:41:38.706710Z",
     "start_time": "2023-07-10T09:41:38.644666600Z"
    }
   }
  },
  {
   "cell_type": "code",
   "execution_count": 50,
   "outputs": [
    {
     "name": "stdout",
     "output_type": "stream",
     "text": [
      "Add  const                          with p-value 0.0\n",
      "Add  Adult_mortality                with p-value 0.0\n",
      "Add  Infant_deaths                  with p-value 0.0\n",
      "Add  GDP_per_capita                 with p-value 2.62469e-74\n",
      "Add  Region_Central America and Caribbean with p-value 2.49218e-29\n",
      "Add  Region_South America           with p-value 5.48137e-23\n",
      "Add  Region_European Union          with p-value 3.18086e-22\n",
      "Add  Region_Asia                    with p-value 5.40027e-14\n",
      "Add  Region_North America           with p-value 8.75508e-15\n",
      "Add  Region_Rest of Europe          with p-value 3.07946e-15\n",
      "Add  Region_Oceania                 with p-value 0.0058721\n",
      "resulting features:\n",
      "['const', 'Adult_mortality', 'Infant_deaths', 'GDP_per_capita', 'Region_Central America and Caribbean', 'Region_South America', 'Region_European Union', 'Region_Asia', 'Region_North America', 'Region_Rest of Europe', 'Region_Oceania']\n"
     ]
    }
   ],
   "source": [
    "# Run stepwise_selection() on remaining features\n",
    "final_columns = stepwise_selection(X_train_fe_2[list(X_train_fe_2.columns)], y_train)\n",
    "print('resulting features:')\n",
    "print(final_columns)"
   ],
   "metadata": {
    "collapsed": false,
    "ExecuteTime": {
     "end_time": "2023-07-10T09:41:43.970083500Z",
     "start_time": "2023-07-10T09:41:38.681777500Z"
    }
   }
  },
  {
   "cell_type": "code",
   "execution_count": 52,
   "outputs": [],
   "source": [
    "# Set dataset to remaining columns after VIF and p-value stepwise dropping\n",
    "X_train_fe_final = X_train_fe_2[final_columns]"
   ],
   "metadata": {
    "collapsed": false,
    "ExecuteTime": {
     "end_time": "2023-07-10T09:41:44.087018700Z",
     "start_time": "2023-07-10T09:41:44.030958200Z"
    }
   }
  },
  {
   "cell_type": "code",
   "execution_count": 53,
   "outputs": [
    {
     "data": {
      "text/plain": "<class 'statsmodels.iolib.summary.Summary'>\n\"\"\"\n                            OLS Regression Results                            \n==============================================================================\nDep. Variable:        Life_expectancy   R-squared:                       0.980\nModel:                            OLS   Adj. R-squared:                  0.980\nMethod:                 Least Squares   F-statistic:                 1.134e+04\nDate:                Mon, 10 Jul 2023   Prob (F-statistic):               0.00\nTime:                        10:41:44   Log-Likelihood:                -3904.2\nNo. Observations:                2291   AIC:                             7830.\nDf Residuals:                    2280   BIC:                             7894.\nDf Model:                          10                                         \nCovariance Type:            nonrobust                                         \n========================================================================================================\n                                           coef    std err          t      P>|t|      [0.025      0.975]\n--------------------------------------------------------------------------------------------------------\nconst                                   70.5172      0.067   1059.621      0.000      70.387      70.648\nAdult_mortality                         -6.4329      0.060   -106.619      0.000      -6.551      -6.315\nInfant_deaths                           -5.4887      0.074    -74.113      0.000      -5.634      -5.343\nGDP_per_capita                           0.4880      0.024     20.154      0.000       0.441       0.536\nRegion_Central America and Caribbean     1.9015      0.109     17.455      0.000       1.688       2.115\nRegion_South America                     1.7785      0.124     14.386      0.000       1.536       2.021\nRegion_European Union                    1.4385      0.108     13.302      0.000       1.226       1.651\nRegion_Asia                              0.8358      0.093      9.026      0.000       0.654       1.017\nRegion_North America                     1.9310      0.223      8.658      0.000       1.494       2.368\nRegion_Rest of Europe                    0.8228      0.119      6.925      0.000       0.590       1.056\nRegion_Oceania                          -0.3487      0.126     -2.757      0.006      -0.597      -0.101\n==============================================================================\nOmnibus:                        1.600   Durbin-Watson:                   2.037\nProb(Omnibus):                  0.449   Jarque-Bera (JB):                1.580\nSkew:                          -0.007   Prob(JB):                        0.454\nKurtosis:                       3.128   Cond. No.                         15.1\n==============================================================================\n\nNotes:\n[1] Standard Errors assume that the covariance matrix of the errors is correctly specified.\n\"\"\"",
      "text/html": "<table class=\"simpletable\">\n<caption>OLS Regression Results</caption>\n<tr>\n  <th>Dep. Variable:</th>     <td>Life_expectancy</td> <th>  R-squared:         </th> <td>   0.980</td> \n</tr>\n<tr>\n  <th>Model:</th>                   <td>OLS</td>       <th>  Adj. R-squared:    </th> <td>   0.980</td> \n</tr>\n<tr>\n  <th>Method:</th>             <td>Least Squares</td>  <th>  F-statistic:       </th> <td>1.134e+04</td>\n</tr>\n<tr>\n  <th>Date:</th>             <td>Mon, 10 Jul 2023</td> <th>  Prob (F-statistic):</th>  <td>  0.00</td>  \n</tr>\n<tr>\n  <th>Time:</th>                 <td>10:41:44</td>     <th>  Log-Likelihood:    </th> <td> -3904.2</td> \n</tr>\n<tr>\n  <th>No. Observations:</th>      <td>  2291</td>      <th>  AIC:               </th> <td>   7830.</td> \n</tr>\n<tr>\n  <th>Df Residuals:</th>          <td>  2280</td>      <th>  BIC:               </th> <td>   7894.</td> \n</tr>\n<tr>\n  <th>Df Model:</th>              <td>    10</td>      <th>                     </th>     <td> </td>    \n</tr>\n<tr>\n  <th>Covariance Type:</th>      <td>nonrobust</td>    <th>                     </th>     <td> </td>    \n</tr>\n</table>\n<table class=\"simpletable\">\n<tr>\n                    <td></td>                      <th>coef</th>     <th>std err</th>      <th>t</th>      <th>P>|t|</th>  <th>[0.025</th>    <th>0.975]</th>  \n</tr>\n<tr>\n  <th>const</th>                                <td>   70.5172</td> <td>    0.067</td> <td> 1059.621</td> <td> 0.000</td> <td>   70.387</td> <td>   70.648</td>\n</tr>\n<tr>\n  <th>Adult_mortality</th>                      <td>   -6.4329</td> <td>    0.060</td> <td> -106.619</td> <td> 0.000</td> <td>   -6.551</td> <td>   -6.315</td>\n</tr>\n<tr>\n  <th>Infant_deaths</th>                        <td>   -5.4887</td> <td>    0.074</td> <td>  -74.113</td> <td> 0.000</td> <td>   -5.634</td> <td>   -5.343</td>\n</tr>\n<tr>\n  <th>GDP_per_capita</th>                       <td>    0.4880</td> <td>    0.024</td> <td>   20.154</td> <td> 0.000</td> <td>    0.441</td> <td>    0.536</td>\n</tr>\n<tr>\n  <th>Region_Central America and Caribbean</th> <td>    1.9015</td> <td>    0.109</td> <td>   17.455</td> <td> 0.000</td> <td>    1.688</td> <td>    2.115</td>\n</tr>\n<tr>\n  <th>Region_South America</th>                 <td>    1.7785</td> <td>    0.124</td> <td>   14.386</td> <td> 0.000</td> <td>    1.536</td> <td>    2.021</td>\n</tr>\n<tr>\n  <th>Region_European Union</th>                <td>    1.4385</td> <td>    0.108</td> <td>   13.302</td> <td> 0.000</td> <td>    1.226</td> <td>    1.651</td>\n</tr>\n<tr>\n  <th>Region_Asia</th>                          <td>    0.8358</td> <td>    0.093</td> <td>    9.026</td> <td> 0.000</td> <td>    0.654</td> <td>    1.017</td>\n</tr>\n<tr>\n  <th>Region_North America</th>                 <td>    1.9310</td> <td>    0.223</td> <td>    8.658</td> <td> 0.000</td> <td>    1.494</td> <td>    2.368</td>\n</tr>\n<tr>\n  <th>Region_Rest of Europe</th>                <td>    0.8228</td> <td>    0.119</td> <td>    6.925</td> <td> 0.000</td> <td>    0.590</td> <td>    1.056</td>\n</tr>\n<tr>\n  <th>Region_Oceania</th>                       <td>   -0.3487</td> <td>    0.126</td> <td>   -2.757</td> <td> 0.006</td> <td>   -0.597</td> <td>   -0.101</td>\n</tr>\n</table>\n<table class=\"simpletable\">\n<tr>\n  <th>Omnibus:</th>       <td> 1.600</td> <th>  Durbin-Watson:     </th> <td>   2.037</td>\n</tr>\n<tr>\n  <th>Prob(Omnibus):</th> <td> 0.449</td> <th>  Jarque-Bera (JB):  </th> <td>   1.580</td>\n</tr>\n<tr>\n  <th>Skew:</th>          <td>-0.007</td> <th>  Prob(JB):          </th> <td>   0.454</td>\n</tr>\n<tr>\n  <th>Kurtosis:</th>      <td> 3.128</td> <th>  Cond. No.          </th> <td>    15.1</td>\n</tr>\n</table><br/><br/>Notes:<br/>[1] Standard Errors assume that the covariance matrix of the errors is correctly specified."
     },
     "execution_count": 53,
     "metadata": {},
     "output_type": "execute_result"
    }
   ],
   "source": [
    "# Create model\n",
    "lin_reg = sm.OLS(y_train, X_train_fe_final) # Use y_train and X_train data\n",
    "results = lin_reg.fit() # Fit linear regression\n",
    "results.summary() # Get summary"
   ],
   "metadata": {
    "collapsed": false,
    "ExecuteTime": {
     "end_time": "2023-07-10T09:41:44.617041100Z",
     "start_time": "2023-07-10T09:41:44.111120100Z"
    }
   }
  },
  {
   "cell_type": "code",
   "execution_count": 54,
   "outputs": [
    {
     "name": "stdout",
     "output_type": "stream",
     "text": [
      "RMSE: 1.3300564619503905\n"
     ]
    }
   ],
   "source": [
    "results.summary()  # Get summary\n",
    "y_pred = results.predict(X_train_fe_final)  # Get y_pred using predict()\n",
    "rmse = statsmodels.tools.eval_measures.rmse(y_train, y_pred)  # Calculate RMSE\n",
    "print(f'RMSE: {rmse}')"
   ],
   "metadata": {
    "collapsed": false,
    "ExecuteTime": {
     "end_time": "2023-07-10T09:41:44.742706700Z",
     "start_time": "2023-07-10T09:41:44.626031200Z"
    }
   }
  },
  {
   "cell_type": "markdown",
   "source": [
    "- All p-values are < 0.05\n",
    "- Condition number - 15.1 (No multicollinearity)\n",
    "- RMSE - 1.33"
   ],
   "metadata": {
    "collapsed": false
   }
  },
  {
   "cell_type": "markdown",
   "source": [
    "# Test Model on Test Data"
   ],
   "metadata": {
    "collapsed": false
   }
  },
  {
   "cell_type": "code",
   "execution_count": 55,
   "outputs": [
    {
     "name": "stdout",
     "output_type": "stream",
     "text": [
      "RMSE: 1.6190894476146727\n"
     ]
    }
   ],
   "source": [
    "y_test_pred = results.predict(X_test_fe[final_columns]) # Use only the features left after dropping\n",
    "rmse = statsmodels.tools.eval_measures.rmse(y_test, y_test_pred)\n",
    "print(f'RMSE: {rmse}')"
   ],
   "metadata": {
    "collapsed": false,
    "ExecuteTime": {
     "end_time": "2023-07-10T09:41:44.955427200Z",
     "start_time": "2023-07-10T09:41:44.713788500Z"
    }
   }
  }
 ],
 "metadata": {
  "kernelspec": {
   "display_name": "Python 3",
   "language": "python",
   "name": "python3"
  },
  "language_info": {
   "codemirror_mode": {
    "name": "ipython",
    "version": 2
   },
   "file_extension": ".py",
   "mimetype": "text/x-python",
   "name": "python",
   "nbconvert_exporter": "python",
   "pygments_lexer": "ipython2",
   "version": "2.7.6"
  }
 },
 "nbformat": 4,
 "nbformat_minor": 0
}
