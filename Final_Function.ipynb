{
 "cells": [
  {
   "cell_type": "code",
   "execution_count": 75,
   "outputs": [],
   "source": [
    "#imports\n",
    "import pandas as pd\n",
    "from sklearn.model_selection import train_test_split\n",
    "from sklearn.preprocessing import RobustScaler, MinMaxScaler\n",
    "import statsmodels.api as sm\n",
    "import numpy as np"
   ],
   "metadata": {
    "collapsed": false,
    "ExecuteTime": {
     "end_time": "2023-07-10T12:53:52.995405900Z",
     "start_time": "2023-07-10T12:53:52.978502500Z"
    }
   }
  },
  {
   "cell_type": "code",
   "execution_count": 76,
   "outputs": [
    {
     "data": {
      "text/plain": "           Region  Infant_deaths  Under_five_deaths  Adult_mortality  \\\n0     Middle East           11.1               13.0         105.8240   \n1  European Union            2.7                3.3          57.9025   \n2            Asia           51.5               67.9         201.0765   \n3   South America           32.8               40.5         222.1965   \n4     Middle East            3.4                4.3          57.9510   \n\n   Alcohol_consumption  Hepatitis_B  Measles   BMI  Polio  Diphtheria  \\\n0                 1.32           97       65  27.8     97          97   \n1                10.35           97       94  26.0     97          97   \n2                 1.57           60       35  21.2     67          64   \n3                 5.68           93       74  25.3     92          93   \n4                 2.89           97       89  27.0     94          94   \n\n   Incidents_HIV  GDP_per_capita  Population_mln  Thinness_ten_nineteen_years  \\\n0           0.08           11006           78.53                          4.9   \n1           0.09           25742           46.44                          0.6   \n2           0.13            1076         1183.21                         27.1   \n3           0.79            4146            0.75                          5.7   \n4           0.08           33995            7.91                          1.2   \n\n   Thinness_five_nine_years  Schooling  Economy_status_Developed  \\\n0                       4.8        7.8                         0   \n1                       0.5        9.7                         1   \n2                      28.0        5.0                         0   \n3                       5.5        7.9                         0   \n4                       1.1       12.8                         1   \n\n   Economy_status_Developing  Life_expectancy  \n0                          1             76.5  \n1                          0             82.8  \n2                          1             65.4  \n3                          1             67.0  \n4                          0             81.7  ",
      "text/html": "<div>\n<style scoped>\n    .dataframe tbody tr th:only-of-type {\n        vertical-align: middle;\n    }\n\n    .dataframe tbody tr th {\n        vertical-align: top;\n    }\n\n    .dataframe thead th {\n        text-align: right;\n    }\n</style>\n<table border=\"1\" class=\"dataframe\">\n  <thead>\n    <tr style=\"text-align: right;\">\n      <th></th>\n      <th>Region</th>\n      <th>Infant_deaths</th>\n      <th>Under_five_deaths</th>\n      <th>Adult_mortality</th>\n      <th>Alcohol_consumption</th>\n      <th>Hepatitis_B</th>\n      <th>Measles</th>\n      <th>BMI</th>\n      <th>Polio</th>\n      <th>Diphtheria</th>\n      <th>Incidents_HIV</th>\n      <th>GDP_per_capita</th>\n      <th>Population_mln</th>\n      <th>Thinness_ten_nineteen_years</th>\n      <th>Thinness_five_nine_years</th>\n      <th>Schooling</th>\n      <th>Economy_status_Developed</th>\n      <th>Economy_status_Developing</th>\n      <th>Life_expectancy</th>\n    </tr>\n  </thead>\n  <tbody>\n    <tr>\n      <th>0</th>\n      <td>Middle East</td>\n      <td>11.1</td>\n      <td>13.0</td>\n      <td>105.8240</td>\n      <td>1.32</td>\n      <td>97</td>\n      <td>65</td>\n      <td>27.8</td>\n      <td>97</td>\n      <td>97</td>\n      <td>0.08</td>\n      <td>11006</td>\n      <td>78.53</td>\n      <td>4.9</td>\n      <td>4.8</td>\n      <td>7.8</td>\n      <td>0</td>\n      <td>1</td>\n      <td>76.5</td>\n    </tr>\n    <tr>\n      <th>1</th>\n      <td>European Union</td>\n      <td>2.7</td>\n      <td>3.3</td>\n      <td>57.9025</td>\n      <td>10.35</td>\n      <td>97</td>\n      <td>94</td>\n      <td>26.0</td>\n      <td>97</td>\n      <td>97</td>\n      <td>0.09</td>\n      <td>25742</td>\n      <td>46.44</td>\n      <td>0.6</td>\n      <td>0.5</td>\n      <td>9.7</td>\n      <td>1</td>\n      <td>0</td>\n      <td>82.8</td>\n    </tr>\n    <tr>\n      <th>2</th>\n      <td>Asia</td>\n      <td>51.5</td>\n      <td>67.9</td>\n      <td>201.0765</td>\n      <td>1.57</td>\n      <td>60</td>\n      <td>35</td>\n      <td>21.2</td>\n      <td>67</td>\n      <td>64</td>\n      <td>0.13</td>\n      <td>1076</td>\n      <td>1183.21</td>\n      <td>27.1</td>\n      <td>28.0</td>\n      <td>5.0</td>\n      <td>0</td>\n      <td>1</td>\n      <td>65.4</td>\n    </tr>\n    <tr>\n      <th>3</th>\n      <td>South America</td>\n      <td>32.8</td>\n      <td>40.5</td>\n      <td>222.1965</td>\n      <td>5.68</td>\n      <td>93</td>\n      <td>74</td>\n      <td>25.3</td>\n      <td>92</td>\n      <td>93</td>\n      <td>0.79</td>\n      <td>4146</td>\n      <td>0.75</td>\n      <td>5.7</td>\n      <td>5.5</td>\n      <td>7.9</td>\n      <td>0</td>\n      <td>1</td>\n      <td>67.0</td>\n    </tr>\n    <tr>\n      <th>4</th>\n      <td>Middle East</td>\n      <td>3.4</td>\n      <td>4.3</td>\n      <td>57.9510</td>\n      <td>2.89</td>\n      <td>97</td>\n      <td>89</td>\n      <td>27.0</td>\n      <td>94</td>\n      <td>94</td>\n      <td>0.08</td>\n      <td>33995</td>\n      <td>7.91</td>\n      <td>1.2</td>\n      <td>1.1</td>\n      <td>12.8</td>\n      <td>1</td>\n      <td>0</td>\n      <td>81.7</td>\n    </tr>\n  </tbody>\n</table>\n</div>"
     },
     "execution_count": 76,
     "metadata": {},
     "output_type": "execute_result"
    }
   ],
   "source": [
    "df = pd.read_csv('Clean_Life_Expectancy_Data.csv')\n",
    "df.head()"
   ],
   "metadata": {
    "collapsed": false,
    "ExecuteTime": {
     "end_time": "2023-07-10T12:53:53.030273200Z",
     "start_time": "2023-07-10T12:53:52.996405800Z"
    }
   }
  },
  {
   "cell_type": "code",
   "execution_count": 77,
   "outputs": [],
   "source": [
    "#LifeExpectancy()"
   ],
   "metadata": {
    "collapsed": false,
    "ExecuteTime": {
     "end_time": "2023-07-10T12:53:53.040780700Z",
     "start_time": "2023-07-10T12:53:53.026273800Z"
    }
   }
  },
  {
   "cell_type": "code",
   "execution_count": 78,
   "outputs": [],
   "source": [
    "''' Recreating model '''\n",
    "df1 = df.copy() # Copy dataframe\n",
    "df1 = pd.get_dummies(df, columns = ['Region'], prefix = 'Region') # OHE for 'Region' column\n",
    "\n",
    "# Define features used in the model\n",
    "feature_cols = ['Infant_deaths', 'Incidents_HIV', 'GDP_per_capita', 'Region_Asia', 'Region_Central America and Caribbean', 'Region_South America', 'Region_European Union', 'Region_Middle East', 'Region_North America', 'Measles', 'Hepatitis_B']\n",
    "\n",
    "# Create X and y\n",
    "X = df1[feature_cols]\n",
    "y = df1['Life_expectancy']\n",
    "\n",
    "# Train/test split\n",
    "X_train, X_test, y_train, y_test = train_test_split(X, y, test_size = 0.2, random_state = 42)\n",
    "\n",
    "# Robust scaling\n",
    "# Define list of columns to be robust scaled\n",
    "robust_list = ['Infant_deaths', 'Hepatitis_B', 'Measles', 'Incidents_HIV', 'GDP_per_capita']\n",
    "\n",
    "rob = RobustScaler() # Initialise scaler\n",
    "X_train[robust_list] = rob.fit_transform(X_train[robust_list]) # Fit and transform scaler\n",
    "\n",
    "\n",
    "X_train = sm.add_constant(X_train) # Add constant\n",
    "lin_reg = sm.OLS(y_train, X_train) # Use y_train and X_train data\n",
    "results = lin_reg.fit() # Fit linear regression"
   ],
   "metadata": {
    "collapsed": false,
    "ExecuteTime": {
     "end_time": "2023-07-10T12:53:53.132286500Z",
     "start_time": "2023-07-10T12:53:53.044293800Z"
    }
   }
  },
  {
   "cell_type": "code",
   "execution_count": 79,
   "outputs": [],
   "source": [
    "''' Recreating Ethical Model '''\n",
    "# Define features used in the model\n",
    "feature_cols2 =['Adult_mortality', 'Infant_deaths', 'GDP_per_capita', 'Region_Central America and Caribbean', 'Region_South America', 'Region_European Union', 'Region_Asia', 'Region_North America', 'Region_Rest of Europe', 'Region_Oceania']\n",
    "\n",
    "# Create X and y\n",
    "X2 = df1[feature_cols2]\n",
    "y2 = df1['Life_expectancy']\n",
    "\n",
    "# Train/test split\n",
    "X_train2, X_test2, y_train2, y_test2 = train_test_split(X2, y2, test_size = 0.2, random_state = 42)\n",
    "\n",
    "# Robust scaling\n",
    "# Define list of columns to be robust scaled\n",
    "robust_list2 = ['Infant_deaths', 'Adult_mortality', 'GDP_per_capita']\n",
    "\n",
    "rob2 = RobustScaler() # Initialise scaler\n",
    "X_train2[robust_list2] = rob2.fit_transform(X_train2[robust_list2]) # Fit and transform scaler\n",
    "\n",
    "X_train2 = sm.add_constant(X_train2) # Add constant\n",
    "lin_reg2 = sm.OLS(y_train2, X_train2) # Use y_train and X_train data\n",
    "results2 = lin_reg2.fit() # Fit linear regression"
   ],
   "metadata": {
    "collapsed": false,
    "ExecuteTime": {
     "end_time": "2023-07-10T12:53:53.163390500Z",
     "start_time": "2023-07-10T12:53:53.078825200Z"
    }
   }
  },
  {
   "cell_type": "markdown",
   "source": [
    "# Life Expectancy Function\n"
   ],
   "metadata": {
    "collapsed": false
   }
  },
  {
   "cell_type": "code",
   "execution_count": 80,
   "metadata": {
    "collapsed": true,
    "ExecuteTime": {
     "end_time": "2023-07-10T12:53:53.174895100Z",
     "start_time": "2023-07-10T12:53:53.106876Z"
    }
   },
   "outputs": [],
   "source": [
    "def LifeExpectancy(consent = 'N'):                      #Consent set to N by default\n",
    "    robust =RobustScaler()\n",
    "    msg = 'Do you consent to using advanced population data, which may include protected information, for better accuracy? (Y/N)'\n",
    "    while True:\n",
    "        consent_input = input(msg)\n",
    "        if not consent_input:                           #No input: go with passed value\n",
    "            break\n",
    "        if consent_input.upper() not in ['Y', 'N']:     #Ambiguous input: retry\n",
    "            msg = 'Please enter either Y or N.\\nDo you consent to using advanced population data, which may include protected information, for better accuracy? (Y/N)'\n",
    "            continue\n",
    "        if consent_input.upper() in ['Y', 'N']:         #Good input: set consent to new value\n",
    "            consent = consent_input.upper()\n",
    "            break\n",
    "    #Gathering data\n",
    "    msg = 'Please enter infant deaths per 1000 population'\n",
    "    while True:\n",
    "        Infant_deaths = input(msg)\n",
    "        try:\n",
    "            Infant_deaths = float(Infant_deaths)\n",
    "            assert 1000 >= Infant_deaths >= 0           #Values have to be within parameters\n",
    "            break                                       #Exit the loop if good value is given\n",
    "        except:\n",
    "            msg = 'Value must be a number between 0 and 1000.\\nPlease enter infant deaths per 1000 population.'\n",
    "            continue                                    #Reattempt input if bad value is given\n",
    "    msg = 'Please enter your region according to the legend:\\nAsia - 1\\nCentral America and Caribbean - 2\\nSouth America - 3\\n European Union - 4\\nRest of Europe - 5\\nNorth America - 6\\n Oceania - 7\\n Middle East - 8\\n Other - 9'\n",
    "    while True:\n",
    "        region_index = input(msg)\n",
    "        try:\n",
    "            assert int(region_index) in [1,2,3,4,5,6,7,8,9]\n",
    "            break\n",
    "        except:\n",
    "            continue\n",
    "    msg = 'Please enter GDP per capita ($).'\n",
    "    while True:\n",
    "        GDP_per_capita = input(msg)\n",
    "        try:\n",
    "            GDP_per_capita = float(GDP_per_capita)\n",
    "            assert GDP_per_capita >= 0\n",
    "            break\n",
    "        except:\n",
    "            msg = 'Value must be a number greater than 0.\\nPlease enter GDP per capita ($).'\n",
    "            continue\n",
    "    msg = 'Please enter adult mortality per 1000 population.'\n",
    "    while True:\n",
    "        Adult_mortality = input(msg)\n",
    "        try:\n",
    "            Adult_mortality = float(Adult_mortality)\n",
    "            assert Adult_mortality >= 0\n",
    "            break\n",
    "        except:\n",
    "            msg = 'Value must be a number greater than 0.\\nPlease enter adult mortality per 1000 population.'\n",
    "            continue\n",
    "    if consent == 'Y':\n",
    "        msg = 'Please enter incidents of HIV per 1000 population, aged 15-49 '\n",
    "        while True:\n",
    "            Incidents_HIV = input(msg)\n",
    "            try:\n",
    "                Incidents_HIV = float(Incidents_HIV)\n",
    "                assert 1000 >= Incidents_HIV >= 0\n",
    "                break\n",
    "            except:\n",
    "                msg = 'Value must be a number between 0 and 1000.\\nPlease enter incidents of HIV per 1000 population, aged 15-49.'\n",
    "                continue\n",
    "        msg = 'Please enter % of coverage of Measles containing vaccine first dose (MCV1) immunization among 1-year-olds.'\n",
    "        while True:\n",
    "            Measles = input(msg)\n",
    "            try:\n",
    "                Measles = float(Measles)\n",
    "                assert 100 >= Measles >= 0\n",
    "                break\n",
    "            except:\n",
    "                msg = 'Value must be a number between 0 and 100.\\nPlease enter % of coverage of Measles containing vaccine first dose (MCV1) immunization among 1-year-olds.'\n",
    "                continue\n",
    "        msg = 'Please enter % of coverage of Hepatitis B (HepB3) immunization among 1-year-olds.'\n",
    "        while True:\n",
    "            Hepatitis_B = input(msg)\n",
    "            try:\n",
    "                Hepatitis_B = float(Hepatitis_B)\n",
    "                assert 100 >= Hepatitis_B >= 0\n",
    "                break\n",
    "            except:\n",
    "                msg = 'Value must be a number between 0 and 100.\\nPlease enter % of coverage of Hepatitis B (HepB3) immunization among 1-year-olds.'\n",
    "                continue\n",
    "    #Converting region input into OHC\n",
    "    region_index = int(region_index)\n",
    "    Region_Asia = 0\n",
    "    Region_Central_America_and_Caribbean = 0\n",
    "    Region_South_America = 0\n",
    "    Region_European_Union = 0\n",
    "    Region_Middle_East = 0\n",
    "    Region_North_America = 0\n",
    "    Region_Oceania = 0\n",
    "    Region_Rest_of_Europe = 0\n",
    "    if region_index == 1:\n",
    "        Region_Asia += 1\n",
    "    if region_index == 2:\n",
    "        Region_Central_America_and_Caribbean += 1\n",
    "    if region_index == 3:\n",
    "        Region_South_America += 1\n",
    "    if region_index == 4:\n",
    "        Region_European_Union += 1\n",
    "    if region_index == 5:\n",
    "        Region_Rest_of_Europe += 1\n",
    "    if region_index == 6:\n",
    "        Region_North_America += 1\n",
    "    if region_index == 7:\n",
    "        Region_Oceania += 1\n",
    "    if region_index == 8:\n",
    "        Region_Middle_East += 1\n",
    "    #Grouping data, scaling and predicting the full model\n",
    "    if consent == 'Y':\n",
    "        df_big = pd.DataFrame({'const': 1, 'Infant_deaths': Infant_deaths, 'Incidents_HIV': Incidents_HIV, 'GDP_per_capita': GDP_per_capita, 'Region_Asia': Region_Asia, 'Region_Central America and Caribbean': Region_Central_America_and_Caribbean, 'Region_South America': Region_South_America, 'Region_European Union': Region_European_Union, 'Region_Middle East': Region_Middle_East, 'Region_North America': Region_North_America, 'Measles': Measles, 'Hepatitis_B': Hepatitis_B}, index = [0])                                  #Create df of entires\n",
    "        df_input = df_big\n",
    "        robust_list = ['Infant_deaths',                              #List of features to scale\n",
    "                   'Hepatitis_B',\n",
    "                   'Measles',\n",
    "                   'Incidents_HIV',\n",
    "                   'GDP_per_capita']\n",
    "        transformer = robust.fit(df[robust_list])\n",
    "        df_input[robust_list] = transformer.transform(df_input[robust_list])\n",
    "        df_input = sm.add_constant(df_input)\n",
    "        pred_age = results.predict(df_input)\n",
    "        print(f'The predicted life expectancy under the full model is {np.round(pred_age[0], 2)}')      #print and return predicted age\n",
    "        return pred_age\n",
    "\n",
    "    #As above - grouping data, scaling and predicting the ethical model\n",
    "    if consent == 'N':\n",
    "        df_small = pd.DataFrame({'const': 1, 'Adult_mortality': Adult_mortality, 'Infant_deaths': Infant_deaths, 'GDP_per_capita': GDP_per_capita, 'Region_Central America and Caribbean': Region_Central_America_and_Caribbean, 'Region_South America': Region_South_America, 'Region_European Union': Region_European_Union,'Region_Asia': Region_Asia, 'Region_North America': Region_North_America, 'Region_Rest of Europe': Region_Rest_of_Europe, 'Region_Oceania':Region_Oceania}, index = [0])\n",
    "        df_input = df_small\n",
    "        robust_list = ['Infant_deaths',\n",
    "               'Adult_mortality',\n",
    "               'GDP_per_capita']\n",
    "        transformer = robust.fit(df[robust_list])\n",
    "        df_input[robust_list] = transformer.transform(df_input[robust_list])\n",
    "        df_input = sm.add_constant(df_input)\n",
    "        pred_age = results2.predict(df_input)\n",
    "        print(f'The predicted life expectancy under the ethical model is {np.round(pred_age[0], 2)}')\n",
    "        return pred_age"
   ]
  },
  {
   "cell_type": "markdown",
   "source": [],
   "metadata": {
    "collapsed": false
   }
  },
  {
   "cell_type": "code",
   "execution_count": 81,
   "outputs": [
    {
     "name": "stdout",
     "output_type": "stream",
     "text": [
      "The predicted life expectancy under the full model is 78.08\n"
     ]
    },
    {
     "data": {
      "text/plain": "0    78.079831\ndtype: float64"
     },
     "execution_count": 81,
     "metadata": {},
     "output_type": "execute_result"
    }
   ],
   "source": [
    "LifeExpectancy()"
   ],
   "metadata": {
    "collapsed": false,
    "ExecuteTime": {
     "end_time": "2023-07-10T12:54:28.083266100Z",
     "start_time": "2023-07-10T12:53:53.136793900Z"
    }
   }
  }
 ],
 "metadata": {
  "kernelspec": {
   "display_name": "Python 3",
   "language": "python",
   "name": "python3"
  },
  "language_info": {
   "codemirror_mode": {
    "name": "ipython",
    "version": 2
   },
   "file_extension": ".py",
   "mimetype": "text/x-python",
   "name": "python",
   "nbconvert_exporter": "python",
   "pygments_lexer": "ipython2",
   "version": "2.7.6"
  }
 },
 "nbformat": 4,
 "nbformat_minor": 0
}
